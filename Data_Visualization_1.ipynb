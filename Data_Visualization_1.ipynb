{
  "nbformat": 4,
  "nbformat_minor": 0,
  "metadata": {
    "colab": {
      "provenance": []
    },
    "kernelspec": {
      "name": "python3",
      "display_name": "Python 3"
    },
    "language_info": {
      "name": "python"
    }
  },
  "cells": [
    {
      "cell_type": "markdown",
      "source": [
        "Data Visualization"
      ],
      "metadata": {
        "id": "uP6JWTNBjJh-"
      }
    },
    {
      "cell_type": "markdown",
      "source": [
        "####**INSTRUCTIONS**\n",
        "####Provide your observation/summary for all tutorials and tasks. Marks will be deducted for those who dont write the summary.\n",
        "####Print this file as pdf and submit both pdf and .ipynb file(No screenshots). Not submitting any of these files will impact their grades."
      ],
      "metadata": {
        "id": "at0mec7Ji45C"
      }
    },
    {
      "cell_type": "markdown",
      "source": [
        "#Data Frames Tutorial"
      ],
      "metadata": {
        "id": "jnDX1agn20fw"
      }
    },
    {
      "cell_type": "markdown",
      "source": [
        "####1. Importing the required libraries."
      ],
      "metadata": {
        "id": "9ibilX0d23YO"
      }
    },
    {
      "cell_type": "code",
      "execution_count": null,
      "metadata": {
        "colab": {
          "base_uri": "https://localhost:8080/"
        },
        "id": "o89hEJqKiM10",
        "outputId": "3f2c3e78-662c-4f49-d39c-b2e5fc5e3449"
      },
      "outputs": [
        {
          "output_type": "stream",
          "name": "stdout",
          "text": [
            "     Months  Tesla Model 5  Kia Soul EV  BMW I3\n",
            "0   January            900          117     382\n",
            "1  February           1750          152     318\n",
            "2     March           3450          171     703\n",
            "3     April           1125          167     516\n",
            "4       May           1620          129     506\n"
          ]
        }
      ],
      "source": [
        "import pandas as pd\n",
        "import numpy as np\n",
        "\n",
        "#Hard-coded data for output represents the sales per 5 months for 3 types of cars\n",
        "companySales = {'Months':['January','February','March','April','May'],\n",
        "                'Tesla Model 5' : [900,1750,3450,1125,1620],\n",
        "                'Kia Soul EV': [117,152,171,167,129],\n",
        "                'BMW I3':[382,318,703,516,506]}\n",
        "\n",
        "#Creates a data frame with the correct order of columns\n",
        "df = pd.DataFrame(companySales,columns=[\"Months\",\"Tesla Model 5\",\"Kia Soul EV\",\"BMW I3\"])\n",
        "\n",
        "#Prints out the table\n",
        "print(df)"
      ]
    },
    {
      "cell_type": "markdown",
      "source": [
        "Here, we are first importing the libraries such as pandas and numpy. pandas is used for creating dataframe and reading the dataset using the pd.dataframe(). while numpy is used for array.Here, the dataframe is have columns such as month and sales of the each different car. at the last we are printing the dataframe and display the sales data.\n",
        "All in all, we are here generating dataframe using pandas and in this dataframe we are making 5 different columns where one is for months name and different car sales of the company.\n",
        "\n",
        "\n",
        "\n",
        "\n"
      ],
      "metadata": {
        "id": "ebPrzK8g1Rib"
      }
    },
    {
      "cell_type": "markdown",
      "source": [
        "####2. Select by row or by column"
      ],
      "metadata": {
        "id": "ehDp0Z-03nRQ"
      }
    },
    {
      "cell_type": "code",
      "source": [
        "#Accessing the data in the first row\n",
        "print(\"----First month----\")\n",
        "print(df.iloc[0])\n",
        "\n",
        "#Accessing the data in the last row\n",
        "print(\"----Last month----\")\n",
        "print(df.iloc[-1])"
      ],
      "metadata": {
        "colab": {
          "base_uri": "https://localhost:8080/"
        },
        "id": "puIUa_H5iRfs",
        "outputId": "36350268-f436-4a52-8a4a-6feb8e556664"
      },
      "execution_count": null,
      "outputs": [
        {
          "output_type": "stream",
          "name": "stdout",
          "text": [
            "----First month----\n",
            "Months           January\n",
            "Tesla Model 5        900\n",
            "Kia Soul EV          117\n",
            "BMW I3               382\n",
            "Name: 0, dtype: object\n",
            "----Last month----\n",
            "Months            May\n",
            "Tesla Model 5    1620\n",
            "Kia Soul EV       129\n",
            "BMW I3            506\n",
            "Name: 4, dtype: object\n"
          ]
        }
      ]
    },
    {
      "cell_type": "markdown",
      "source": [
        "here, basically we are printing two rows from the dataframe, two rows is first row and the last row of the dataframe.\n",
        "df.iloc[0] is used for printing theb first row, which shows the data for the january month. here this one shows the month name along with three different car sales data.\n",
        "df.iloc[-1] is used for printing the last row from the dataframe, this shows the data of the may month. this is shows the month name along with the car sales of the three different types.\n",
        "\n",
        "All in all, this operation is for how to access the data from the dataframe and display the data from the dataframe using the iloc method. this is used for checking the first and last month of the data of company sales.\n",
        "\n"
      ],
      "metadata": {
        "id": "heVpUsxiDa39"
      }
    },
    {
      "cell_type": "code",
      "source": [
        "# Changes the name of the rows/indices\n",
        "# Now the row can be referred by a label rather than position\n",
        "df.index = [\"January\",\"February\",\"March\",\"April\",\"May\"]\n",
        "\n",
        "# Show the row labeled “February” from the data frame\n",
        "df.loc[\"February\"]"
      ],
      "metadata": {
        "colab": {
          "base_uri": "https://localhost:8080/"
        },
        "id": "0U74OzrCiUnO",
        "outputId": "ccd04d27-53e6-4a58-cb1b-2540298190c8"
      },
      "execution_count": null,
      "outputs": [
        {
          "output_type": "execute_result",
          "data": {
            "text/plain": [
              "Months           February\n",
              "Tesla Model 5        1750\n",
              "Kia Soul EV           152\n",
              "BMW I3                318\n",
              "Name: February, dtype: object"
            ]
          },
          "metadata": {},
          "execution_count": 3
        }
      ]
    },
    {
      "cell_type": "markdown",
      "source": [
        "here, this code shows the rows from the dataframe and finding the row where the particular row name is mentioned. here, we are here giving the labels of the each row depending on the month name. this is easy way to refrence the rows use apart from the position in the dataframe.\n",
        "\n",
        "now, we are using the df.loc['February'] for displaying the row which is labeled as February this row have the sales of the three different car types for particular february.  this method is shows that how we can use and custom labels for referencing rows for easily find in the dataframe and access.\n"
      ],
      "metadata": {
        "id": "RV42fNNyJA93"
      }
    },
    {
      "cell_type": "code",
      "source": [
        "df[\"BMW I3\"]"
      ],
      "metadata": {
        "colab": {
          "base_uri": "https://localhost:8080/"
        },
        "id": "WHAwQEzViXxY",
        "outputId": "7a4ef0ab-2752-4151-f41b-0fbcf5f5ea43"
      },
      "execution_count": null,
      "outputs": [
        {
          "output_type": "execute_result",
          "data": {
            "text/plain": [
              "January     382\n",
              "February    318\n",
              "March       703\n",
              "April       516\n",
              "May         506\n",
              "Name: BMW I3, dtype: int64"
            ]
          },
          "metadata": {},
          "execution_count": 4
        }
      ]
    },
    {
      "cell_type": "markdown",
      "source": [
        "here, this df['BMW I3'] is used for selecting particular column from the dataframe and displaying the data of sales per month. this is shows the BMW sales over the 5 months and its display month name and car sales.\n",
        "\n",
        "\n",
        "this is show the data of BMW car sales over the 5 month and focusing on the data its shows that on the month of march there is highest sales which is 703 and focusing about the lowest sales during this period of time is February, which is only 318. its clearly appear that all of sudden in the month of march sales goes up and then its lower a bit at 516 in the April and remain at 500.\n",
        "\n",
        "all in all, here we are getting the data of BMW car sales over the 5 month sales.focusing on the data month of March was the highest sales marks in the records.\n"
      ],
      "metadata": {
        "id": "TkDltxo7OF0Y"
      }
    },
    {
      "cell_type": "markdown",
      "source": [
        "####3. Delete rows or columns by name or index"
      ],
      "metadata": {
        "id": "QZ-jq8BO3xaZ"
      }
    },
    {
      "cell_type": "code",
      "source": [
        "df.drop([\"BMW I3\"],axis = 1)"
      ],
      "metadata": {
        "colab": {
          "base_uri": "https://localhost:8080/",
          "height": 206
        },
        "id": "c2MhZuY4ibDn",
        "outputId": "83f0a15c-a008-48f6-d29b-89076d59b5d5"
      },
      "execution_count": null,
      "outputs": [
        {
          "output_type": "execute_result",
          "data": {
            "text/plain": [
              "            Months  Tesla Model 5  Kia Soul EV\n",
              "January    January            900          117\n",
              "February  February           1750          152\n",
              "March        March           3450          171\n",
              "April        April           1125          167\n",
              "May            May           1620          129"
            ],
            "text/html": [
              "\n",
              "  <div id=\"df-19015ea8-cb41-4266-ae0e-0f89812d8d02\" class=\"colab-df-container\">\n",
              "    <div>\n",
              "<style scoped>\n",
              "    .dataframe tbody tr th:only-of-type {\n",
              "        vertical-align: middle;\n",
              "    }\n",
              "\n",
              "    .dataframe tbody tr th {\n",
              "        vertical-align: top;\n",
              "    }\n",
              "\n",
              "    .dataframe thead th {\n",
              "        text-align: right;\n",
              "    }\n",
              "</style>\n",
              "<table border=\"1\" class=\"dataframe\">\n",
              "  <thead>\n",
              "    <tr style=\"text-align: right;\">\n",
              "      <th></th>\n",
              "      <th>Months</th>\n",
              "      <th>Tesla Model 5</th>\n",
              "      <th>Kia Soul EV</th>\n",
              "    </tr>\n",
              "  </thead>\n",
              "  <tbody>\n",
              "    <tr>\n",
              "      <th>January</th>\n",
              "      <td>January</td>\n",
              "      <td>900</td>\n",
              "      <td>117</td>\n",
              "    </tr>\n",
              "    <tr>\n",
              "      <th>February</th>\n",
              "      <td>February</td>\n",
              "      <td>1750</td>\n",
              "      <td>152</td>\n",
              "    </tr>\n",
              "    <tr>\n",
              "      <th>March</th>\n",
              "      <td>March</td>\n",
              "      <td>3450</td>\n",
              "      <td>171</td>\n",
              "    </tr>\n",
              "    <tr>\n",
              "      <th>April</th>\n",
              "      <td>April</td>\n",
              "      <td>1125</td>\n",
              "      <td>167</td>\n",
              "    </tr>\n",
              "    <tr>\n",
              "      <th>May</th>\n",
              "      <td>May</td>\n",
              "      <td>1620</td>\n",
              "      <td>129</td>\n",
              "    </tr>\n",
              "  </tbody>\n",
              "</table>\n",
              "</div>\n",
              "    <div class=\"colab-df-buttons\">\n",
              "\n",
              "  <div class=\"colab-df-container\">\n",
              "    <button class=\"colab-df-convert\" onclick=\"convertToInteractive('df-19015ea8-cb41-4266-ae0e-0f89812d8d02')\"\n",
              "            title=\"Convert this dataframe to an interactive table.\"\n",
              "            style=\"display:none;\">\n",
              "\n",
              "  <svg xmlns=\"http://www.w3.org/2000/svg\" height=\"24px\" viewBox=\"0 -960 960 960\">\n",
              "    <path d=\"M120-120v-720h720v720H120Zm60-500h600v-160H180v160Zm220 220h160v-160H400v160Zm0 220h160v-160H400v160ZM180-400h160v-160H180v160Zm440 0h160v-160H620v160ZM180-180h160v-160H180v160Zm440 0h160v-160H620v160Z\"/>\n",
              "  </svg>\n",
              "    </button>\n",
              "\n",
              "  <style>\n",
              "    .colab-df-container {\n",
              "      display:flex;\n",
              "      gap: 12px;\n",
              "    }\n",
              "\n",
              "    .colab-df-convert {\n",
              "      background-color: #E8F0FE;\n",
              "      border: none;\n",
              "      border-radius: 50%;\n",
              "      cursor: pointer;\n",
              "      display: none;\n",
              "      fill: #1967D2;\n",
              "      height: 32px;\n",
              "      padding: 0 0 0 0;\n",
              "      width: 32px;\n",
              "    }\n",
              "\n",
              "    .colab-df-convert:hover {\n",
              "      background-color: #E2EBFA;\n",
              "      box-shadow: 0px 1px 2px rgba(60, 64, 67, 0.3), 0px 1px 3px 1px rgba(60, 64, 67, 0.15);\n",
              "      fill: #174EA6;\n",
              "    }\n",
              "\n",
              "    .colab-df-buttons div {\n",
              "      margin-bottom: 4px;\n",
              "    }\n",
              "\n",
              "    [theme=dark] .colab-df-convert {\n",
              "      background-color: #3B4455;\n",
              "      fill: #D2E3FC;\n",
              "    }\n",
              "\n",
              "    [theme=dark] .colab-df-convert:hover {\n",
              "      background-color: #434B5C;\n",
              "      box-shadow: 0px 1px 3px 1px rgba(0, 0, 0, 0.15);\n",
              "      filter: drop-shadow(0px 1px 2px rgba(0, 0, 0, 0.3));\n",
              "      fill: #FFFFFF;\n",
              "    }\n",
              "  </style>\n",
              "\n",
              "    <script>\n",
              "      const buttonEl =\n",
              "        document.querySelector('#df-19015ea8-cb41-4266-ae0e-0f89812d8d02 button.colab-df-convert');\n",
              "      buttonEl.style.display =\n",
              "        google.colab.kernel.accessAllowed ? 'block' : 'none';\n",
              "\n",
              "      async function convertToInteractive(key) {\n",
              "        const element = document.querySelector('#df-19015ea8-cb41-4266-ae0e-0f89812d8d02');\n",
              "        const dataTable =\n",
              "          await google.colab.kernel.invokeFunction('convertToInteractive',\n",
              "                                                    [key], {});\n",
              "        if (!dataTable) return;\n",
              "\n",
              "        const docLinkHtml = 'Like what you see? Visit the ' +\n",
              "          '<a target=\"_blank\" href=https://colab.research.google.com/notebooks/data_table.ipynb>data table notebook</a>'\n",
              "          + ' to learn more about interactive tables.';\n",
              "        element.innerHTML = '';\n",
              "        dataTable['output_type'] = 'display_data';\n",
              "        await google.colab.output.renderOutput(dataTable, element);\n",
              "        const docLink = document.createElement('div');\n",
              "        docLink.innerHTML = docLinkHtml;\n",
              "        element.appendChild(docLink);\n",
              "      }\n",
              "    </script>\n",
              "  </div>\n",
              "\n",
              "\n",
              "<div id=\"df-f56062ed-42e5-4a6b-8fb7-bd24e96fb684\">\n",
              "  <button class=\"colab-df-quickchart\" onclick=\"quickchart('df-f56062ed-42e5-4a6b-8fb7-bd24e96fb684')\"\n",
              "            title=\"Suggest charts.\"\n",
              "            style=\"display:none;\">\n",
              "\n",
              "<svg xmlns=\"http://www.w3.org/2000/svg\" height=\"24px\"viewBox=\"0 0 24 24\"\n",
              "     width=\"24px\">\n",
              "    <g>\n",
              "        <path d=\"M19 3H5c-1.1 0-2 .9-2 2v14c0 1.1.9 2 2 2h14c1.1 0 2-.9 2-2V5c0-1.1-.9-2-2-2zM9 17H7v-7h2v7zm4 0h-2V7h2v10zm4 0h-2v-4h2v4z\"/>\n",
              "    </g>\n",
              "</svg>\n",
              "  </button>\n",
              "\n",
              "<style>\n",
              "  .colab-df-quickchart {\n",
              "      --bg-color: #E8F0FE;\n",
              "      --fill-color: #1967D2;\n",
              "      --hover-bg-color: #E2EBFA;\n",
              "      --hover-fill-color: #174EA6;\n",
              "      --disabled-fill-color: #AAA;\n",
              "      --disabled-bg-color: #DDD;\n",
              "  }\n",
              "\n",
              "  [theme=dark] .colab-df-quickchart {\n",
              "      --bg-color: #3B4455;\n",
              "      --fill-color: #D2E3FC;\n",
              "      --hover-bg-color: #434B5C;\n",
              "      --hover-fill-color: #FFFFFF;\n",
              "      --disabled-bg-color: #3B4455;\n",
              "      --disabled-fill-color: #666;\n",
              "  }\n",
              "\n",
              "  .colab-df-quickchart {\n",
              "    background-color: var(--bg-color);\n",
              "    border: none;\n",
              "    border-radius: 50%;\n",
              "    cursor: pointer;\n",
              "    display: none;\n",
              "    fill: var(--fill-color);\n",
              "    height: 32px;\n",
              "    padding: 0;\n",
              "    width: 32px;\n",
              "  }\n",
              "\n",
              "  .colab-df-quickchart:hover {\n",
              "    background-color: var(--hover-bg-color);\n",
              "    box-shadow: 0 1px 2px rgba(60, 64, 67, 0.3), 0 1px 3px 1px rgba(60, 64, 67, 0.15);\n",
              "    fill: var(--button-hover-fill-color);\n",
              "  }\n",
              "\n",
              "  .colab-df-quickchart-complete:disabled,\n",
              "  .colab-df-quickchart-complete:disabled:hover {\n",
              "    background-color: var(--disabled-bg-color);\n",
              "    fill: var(--disabled-fill-color);\n",
              "    box-shadow: none;\n",
              "  }\n",
              "\n",
              "  .colab-df-spinner {\n",
              "    border: 2px solid var(--fill-color);\n",
              "    border-color: transparent;\n",
              "    border-bottom-color: var(--fill-color);\n",
              "    animation:\n",
              "      spin 1s steps(1) infinite;\n",
              "  }\n",
              "\n",
              "  @keyframes spin {\n",
              "    0% {\n",
              "      border-color: transparent;\n",
              "      border-bottom-color: var(--fill-color);\n",
              "      border-left-color: var(--fill-color);\n",
              "    }\n",
              "    20% {\n",
              "      border-color: transparent;\n",
              "      border-left-color: var(--fill-color);\n",
              "      border-top-color: var(--fill-color);\n",
              "    }\n",
              "    30% {\n",
              "      border-color: transparent;\n",
              "      border-left-color: var(--fill-color);\n",
              "      border-top-color: var(--fill-color);\n",
              "      border-right-color: var(--fill-color);\n",
              "    }\n",
              "    40% {\n",
              "      border-color: transparent;\n",
              "      border-right-color: var(--fill-color);\n",
              "      border-top-color: var(--fill-color);\n",
              "    }\n",
              "    60% {\n",
              "      border-color: transparent;\n",
              "      border-right-color: var(--fill-color);\n",
              "    }\n",
              "    80% {\n",
              "      border-color: transparent;\n",
              "      border-right-color: var(--fill-color);\n",
              "      border-bottom-color: var(--fill-color);\n",
              "    }\n",
              "    90% {\n",
              "      border-color: transparent;\n",
              "      border-bottom-color: var(--fill-color);\n",
              "    }\n",
              "  }\n",
              "</style>\n",
              "\n",
              "  <script>\n",
              "    async function quickchart(key) {\n",
              "      const quickchartButtonEl =\n",
              "        document.querySelector('#' + key + ' button');\n",
              "      quickchartButtonEl.disabled = true;  // To prevent multiple clicks.\n",
              "      quickchartButtonEl.classList.add('colab-df-spinner');\n",
              "      try {\n",
              "        const charts = await google.colab.kernel.invokeFunction(\n",
              "            'suggestCharts', [key], {});\n",
              "      } catch (error) {\n",
              "        console.error('Error during call to suggestCharts:', error);\n",
              "      }\n",
              "      quickchartButtonEl.classList.remove('colab-df-spinner');\n",
              "      quickchartButtonEl.classList.add('colab-df-quickchart-complete');\n",
              "    }\n",
              "    (() => {\n",
              "      let quickchartButtonEl =\n",
              "        document.querySelector('#df-f56062ed-42e5-4a6b-8fb7-bd24e96fb684 button');\n",
              "      quickchartButtonEl.style.display =\n",
              "        google.colab.kernel.accessAllowed ? 'block' : 'none';\n",
              "    })();\n",
              "  </script>\n",
              "</div>\n",
              "    </div>\n",
              "  </div>\n"
            ]
          },
          "metadata": {},
          "execution_count": 5
        }
      ]
    },
    {
      "cell_type": "markdown",
      "source": [
        "here, we are dropping the column BMW I3 from the dataframe using the df.drop(). here after dropping the BMW I3 only data shows is for the month name, month label. tesla model 5 and kia soul Ev data.\n",
        "\n",
        "this is used for removing column from the dataframe and displying the remaining the data from the dataframe.\n",
        "\n"
      ],
      "metadata": {
        "id": "gmW7Nkw5P2xo"
      }
    },
    {
      "cell_type": "code",
      "source": [
        "#Hard-coded data for output\n",
        "#This data represents the sales per 5 months for 3 types of cars\n",
        "carSales = {'Tesla Model 5' : [900,1750,3450,1125,1620], 'Kia Soul EV': [117,152,171,167,129], 'BMW I3':[900,1750,3450,1125,1620]}\n",
        "\n",
        "#Creates a data frame with the correct order of columns\n",
        "df_cars = pd.DataFrame(carSales,columns=[\"Tesla Model 5\",\"Kia Soul EV\",\"BMW I3\"])\n",
        "\n",
        "#Changes the name of the rows/indices\n",
        "#now the row can be referred by a label rather than position\n",
        "df_cars.index = [\"January\",\"February\",\"March\",\"April\",\"May\"]\n",
        "\n",
        "print(df_cars)\n",
        "\n",
        "print()\n",
        "print('---------Deleting row \"January\"----------')\n",
        "print()\n",
        "\n",
        "#Removes the row labeled “January” from the data frame\n",
        "print(df_cars.drop([\"January\"]))"
      ],
      "metadata": {
        "colab": {
          "base_uri": "https://localhost:8080/"
        },
        "id": "WZflOqMwieOr",
        "outputId": "081859d7-ae17-4c6e-c33d-ca1a96911c28"
      },
      "execution_count": null,
      "outputs": [
        {
          "output_type": "stream",
          "name": "stdout",
          "text": [
            "          Tesla Model 5  Kia Soul EV  BMW I3\n",
            "January             900          117     900\n",
            "February           1750          152    1750\n",
            "March              3450          171    3450\n",
            "April              1125          167    1125\n",
            "May                1620          129    1620\n",
            "\n",
            "---------Deleting row \"January\"----------\n",
            "\n",
            "          Tesla Model 5  Kia Soul EV  BMW I3\n",
            "February           1750          152    1750\n",
            "March              3450          171    3450\n",
            "April              1125          167    1125\n",
            "May                1620          129    1620\n"
          ]
        }
      ]
    },
    {
      "cell_type": "markdown",
      "source": [
        "here, we are displaying the car sales for three types of the car for the five months of data. here, we are creating the dataframe, df_cars which is use  data and labeled the rows with the month name. after that we are deleting the row named as  January from the dataframe using the df_cars.drop['January'].\n",
        "\n",
        "\n",
        "after that we are displying the dataframe data remaining of the months for all the three different types of car sales. this is shows that how to remove data row from the dataframe.\n",
        "\n",
        "\n",
        "after all of this we are displaying the 5 months of the data with each of the car type sales for the company."
      ],
      "metadata": {
        "id": "bSJE1HUjRb79"
      }
    },
    {
      "cell_type": "code",
      "source": [
        "df_cars.drop(df_cars.index[1])"
      ],
      "metadata": {
        "colab": {
          "base_uri": "https://localhost:8080/",
          "height": 174
        },
        "id": "i5FcFPPDihxU",
        "outputId": "fa10b6b8-db64-4bb7-d31d-7b58947ffed9"
      },
      "execution_count": null,
      "outputs": [
        {
          "output_type": "execute_result",
          "data": {
            "text/plain": [
              "         Tesla Model 5  Kia Soul EV  BMW I3\n",
              "January            900          117     900\n",
              "March             3450          171    3450\n",
              "April             1125          167    1125\n",
              "May               1620          129    1620"
            ],
            "text/html": [
              "\n",
              "  <div id=\"df-20721dbc-8023-4391-9c9b-5c8df28cbb9f\" class=\"colab-df-container\">\n",
              "    <div>\n",
              "<style scoped>\n",
              "    .dataframe tbody tr th:only-of-type {\n",
              "        vertical-align: middle;\n",
              "    }\n",
              "\n",
              "    .dataframe tbody tr th {\n",
              "        vertical-align: top;\n",
              "    }\n",
              "\n",
              "    .dataframe thead th {\n",
              "        text-align: right;\n",
              "    }\n",
              "</style>\n",
              "<table border=\"1\" class=\"dataframe\">\n",
              "  <thead>\n",
              "    <tr style=\"text-align: right;\">\n",
              "      <th></th>\n",
              "      <th>Tesla Model 5</th>\n",
              "      <th>Kia Soul EV</th>\n",
              "      <th>BMW I3</th>\n",
              "    </tr>\n",
              "  </thead>\n",
              "  <tbody>\n",
              "    <tr>\n",
              "      <th>January</th>\n",
              "      <td>900</td>\n",
              "      <td>117</td>\n",
              "      <td>900</td>\n",
              "    </tr>\n",
              "    <tr>\n",
              "      <th>March</th>\n",
              "      <td>3450</td>\n",
              "      <td>171</td>\n",
              "      <td>3450</td>\n",
              "    </tr>\n",
              "    <tr>\n",
              "      <th>April</th>\n",
              "      <td>1125</td>\n",
              "      <td>167</td>\n",
              "      <td>1125</td>\n",
              "    </tr>\n",
              "    <tr>\n",
              "      <th>May</th>\n",
              "      <td>1620</td>\n",
              "      <td>129</td>\n",
              "      <td>1620</td>\n",
              "    </tr>\n",
              "  </tbody>\n",
              "</table>\n",
              "</div>\n",
              "    <div class=\"colab-df-buttons\">\n",
              "\n",
              "  <div class=\"colab-df-container\">\n",
              "    <button class=\"colab-df-convert\" onclick=\"convertToInteractive('df-20721dbc-8023-4391-9c9b-5c8df28cbb9f')\"\n",
              "            title=\"Convert this dataframe to an interactive table.\"\n",
              "            style=\"display:none;\">\n",
              "\n",
              "  <svg xmlns=\"http://www.w3.org/2000/svg\" height=\"24px\" viewBox=\"0 -960 960 960\">\n",
              "    <path d=\"M120-120v-720h720v720H120Zm60-500h600v-160H180v160Zm220 220h160v-160H400v160Zm0 220h160v-160H400v160ZM180-400h160v-160H180v160Zm440 0h160v-160H620v160ZM180-180h160v-160H180v160Zm440 0h160v-160H620v160Z\"/>\n",
              "  </svg>\n",
              "    </button>\n",
              "\n",
              "  <style>\n",
              "    .colab-df-container {\n",
              "      display:flex;\n",
              "      gap: 12px;\n",
              "    }\n",
              "\n",
              "    .colab-df-convert {\n",
              "      background-color: #E8F0FE;\n",
              "      border: none;\n",
              "      border-radius: 50%;\n",
              "      cursor: pointer;\n",
              "      display: none;\n",
              "      fill: #1967D2;\n",
              "      height: 32px;\n",
              "      padding: 0 0 0 0;\n",
              "      width: 32px;\n",
              "    }\n",
              "\n",
              "    .colab-df-convert:hover {\n",
              "      background-color: #E2EBFA;\n",
              "      box-shadow: 0px 1px 2px rgba(60, 64, 67, 0.3), 0px 1px 3px 1px rgba(60, 64, 67, 0.15);\n",
              "      fill: #174EA6;\n",
              "    }\n",
              "\n",
              "    .colab-df-buttons div {\n",
              "      margin-bottom: 4px;\n",
              "    }\n",
              "\n",
              "    [theme=dark] .colab-df-convert {\n",
              "      background-color: #3B4455;\n",
              "      fill: #D2E3FC;\n",
              "    }\n",
              "\n",
              "    [theme=dark] .colab-df-convert:hover {\n",
              "      background-color: #434B5C;\n",
              "      box-shadow: 0px 1px 3px 1px rgba(0, 0, 0, 0.15);\n",
              "      filter: drop-shadow(0px 1px 2px rgba(0, 0, 0, 0.3));\n",
              "      fill: #FFFFFF;\n",
              "    }\n",
              "  </style>\n",
              "\n",
              "    <script>\n",
              "      const buttonEl =\n",
              "        document.querySelector('#df-20721dbc-8023-4391-9c9b-5c8df28cbb9f button.colab-df-convert');\n",
              "      buttonEl.style.display =\n",
              "        google.colab.kernel.accessAllowed ? 'block' : 'none';\n",
              "\n",
              "      async function convertToInteractive(key) {\n",
              "        const element = document.querySelector('#df-20721dbc-8023-4391-9c9b-5c8df28cbb9f');\n",
              "        const dataTable =\n",
              "          await google.colab.kernel.invokeFunction('convertToInteractive',\n",
              "                                                    [key], {});\n",
              "        if (!dataTable) return;\n",
              "\n",
              "        const docLinkHtml = 'Like what you see? Visit the ' +\n",
              "          '<a target=\"_blank\" href=https://colab.research.google.com/notebooks/data_table.ipynb>data table notebook</a>'\n",
              "          + ' to learn more about interactive tables.';\n",
              "        element.innerHTML = '';\n",
              "        dataTable['output_type'] = 'display_data';\n",
              "        await google.colab.output.renderOutput(dataTable, element);\n",
              "        const docLink = document.createElement('div');\n",
              "        docLink.innerHTML = docLinkHtml;\n",
              "        element.appendChild(docLink);\n",
              "      }\n",
              "    </script>\n",
              "  </div>\n",
              "\n",
              "\n",
              "<div id=\"df-b951b9a2-e7e2-4014-a749-2bad4655dd19\">\n",
              "  <button class=\"colab-df-quickchart\" onclick=\"quickchart('df-b951b9a2-e7e2-4014-a749-2bad4655dd19')\"\n",
              "            title=\"Suggest charts.\"\n",
              "            style=\"display:none;\">\n",
              "\n",
              "<svg xmlns=\"http://www.w3.org/2000/svg\" height=\"24px\"viewBox=\"0 0 24 24\"\n",
              "     width=\"24px\">\n",
              "    <g>\n",
              "        <path d=\"M19 3H5c-1.1 0-2 .9-2 2v14c0 1.1.9 2 2 2h14c1.1 0 2-.9 2-2V5c0-1.1-.9-2-2-2zM9 17H7v-7h2v7zm4 0h-2V7h2v10zm4 0h-2v-4h2v4z\"/>\n",
              "    </g>\n",
              "</svg>\n",
              "  </button>\n",
              "\n",
              "<style>\n",
              "  .colab-df-quickchart {\n",
              "      --bg-color: #E8F0FE;\n",
              "      --fill-color: #1967D2;\n",
              "      --hover-bg-color: #E2EBFA;\n",
              "      --hover-fill-color: #174EA6;\n",
              "      --disabled-fill-color: #AAA;\n",
              "      --disabled-bg-color: #DDD;\n",
              "  }\n",
              "\n",
              "  [theme=dark] .colab-df-quickchart {\n",
              "      --bg-color: #3B4455;\n",
              "      --fill-color: #D2E3FC;\n",
              "      --hover-bg-color: #434B5C;\n",
              "      --hover-fill-color: #FFFFFF;\n",
              "      --disabled-bg-color: #3B4455;\n",
              "      --disabled-fill-color: #666;\n",
              "  }\n",
              "\n",
              "  .colab-df-quickchart {\n",
              "    background-color: var(--bg-color);\n",
              "    border: none;\n",
              "    border-radius: 50%;\n",
              "    cursor: pointer;\n",
              "    display: none;\n",
              "    fill: var(--fill-color);\n",
              "    height: 32px;\n",
              "    padding: 0;\n",
              "    width: 32px;\n",
              "  }\n",
              "\n",
              "  .colab-df-quickchart:hover {\n",
              "    background-color: var(--hover-bg-color);\n",
              "    box-shadow: 0 1px 2px rgba(60, 64, 67, 0.3), 0 1px 3px 1px rgba(60, 64, 67, 0.15);\n",
              "    fill: var(--button-hover-fill-color);\n",
              "  }\n",
              "\n",
              "  .colab-df-quickchart-complete:disabled,\n",
              "  .colab-df-quickchart-complete:disabled:hover {\n",
              "    background-color: var(--disabled-bg-color);\n",
              "    fill: var(--disabled-fill-color);\n",
              "    box-shadow: none;\n",
              "  }\n",
              "\n",
              "  .colab-df-spinner {\n",
              "    border: 2px solid var(--fill-color);\n",
              "    border-color: transparent;\n",
              "    border-bottom-color: var(--fill-color);\n",
              "    animation:\n",
              "      spin 1s steps(1) infinite;\n",
              "  }\n",
              "\n",
              "  @keyframes spin {\n",
              "    0% {\n",
              "      border-color: transparent;\n",
              "      border-bottom-color: var(--fill-color);\n",
              "      border-left-color: var(--fill-color);\n",
              "    }\n",
              "    20% {\n",
              "      border-color: transparent;\n",
              "      border-left-color: var(--fill-color);\n",
              "      border-top-color: var(--fill-color);\n",
              "    }\n",
              "    30% {\n",
              "      border-color: transparent;\n",
              "      border-left-color: var(--fill-color);\n",
              "      border-top-color: var(--fill-color);\n",
              "      border-right-color: var(--fill-color);\n",
              "    }\n",
              "    40% {\n",
              "      border-color: transparent;\n",
              "      border-right-color: var(--fill-color);\n",
              "      border-top-color: var(--fill-color);\n",
              "    }\n",
              "    60% {\n",
              "      border-color: transparent;\n",
              "      border-right-color: var(--fill-color);\n",
              "    }\n",
              "    80% {\n",
              "      border-color: transparent;\n",
              "      border-right-color: var(--fill-color);\n",
              "      border-bottom-color: var(--fill-color);\n",
              "    }\n",
              "    90% {\n",
              "      border-color: transparent;\n",
              "      border-bottom-color: var(--fill-color);\n",
              "    }\n",
              "  }\n",
              "</style>\n",
              "\n",
              "  <script>\n",
              "    async function quickchart(key) {\n",
              "      const quickchartButtonEl =\n",
              "        document.querySelector('#' + key + ' button');\n",
              "      quickchartButtonEl.disabled = true;  // To prevent multiple clicks.\n",
              "      quickchartButtonEl.classList.add('colab-df-spinner');\n",
              "      try {\n",
              "        const charts = await google.colab.kernel.invokeFunction(\n",
              "            'suggestCharts', [key], {});\n",
              "      } catch (error) {\n",
              "        console.error('Error during call to suggestCharts:', error);\n",
              "      }\n",
              "      quickchartButtonEl.classList.remove('colab-df-spinner');\n",
              "      quickchartButtonEl.classList.add('colab-df-quickchart-complete');\n",
              "    }\n",
              "    (() => {\n",
              "      let quickchartButtonEl =\n",
              "        document.querySelector('#df-b951b9a2-e7e2-4014-a749-2bad4655dd19 button');\n",
              "      quickchartButtonEl.style.display =\n",
              "        google.colab.kernel.accessAllowed ? 'block' : 'none';\n",
              "    })();\n",
              "  </script>\n",
              "</div>\n",
              "    </div>\n",
              "  </div>\n"
            ]
          },
          "metadata": {},
          "execution_count": 7
        }
      ]
    },
    {
      "cell_type": "markdown",
      "source": [
        "here, we are dropping the first row of the index 1 from the dataframe which is February. after removing the February rows data now its display the remaining months car sales data.\n",
        "\n",
        "here, df_cars,drop(df_cars.index[1]) drop the row of the 1st index. this is shows how to remove the row from the dataframe using the numerical index.\n",
        "\n",
        "All in all, we are dropping the row and from the dataframe using the index numerical number and displaying the data after that."
      ],
      "metadata": {
        "id": "3yE4IPUtUtdh"
      }
    },
    {
      "cell_type": "markdown",
      "source": [
        "####4. Select, delete or change using boolean Indexing"
      ],
      "metadata": {
        "id": "VsLNL32gO-oC"
      }
    },
    {
      "cell_type": "code",
      "source": [
        "#Hard-coded data for output\n",
        "#This data represents the sales per 5 months for 3 types of cars\n",
        "companySales = {'Months':['January','February','March','April','May'],\n",
        "                'Tesla Model 5' : [900,1750,3450,1125,1620],\n",
        "                'Kia Soul EV': [117,152,171,167,129],\n",
        "                'BMW I3':[382,318,703,516,506]}\n",
        "\n",
        "#Creates a data frame with the correct order of columns\n",
        "df = pd.DataFrame(companySales,columns=[\"Months\",\"Tesla Model 5\",\"Kia Soul EV\",\"BMW I3\"])\n",
        "\n",
        "#Prints out the table\n",
        "print(df)\n",
        "\n",
        "print('\\n-----Using boolean indexing-----\\n')\n",
        "\n",
        "#removes any rows that contain values greater than 2000\n",
        "new_df = df[df[\"Tesla Model 5\"] < 2000 ]\n",
        "print(new_df)"
      ],
      "metadata": {
        "colab": {
          "base_uri": "https://localhost:8080/"
        },
        "id": "5fYO-DL2intG",
        "outputId": "3e339935-d8f8-461c-af58-7366e9583c45"
      },
      "execution_count": null,
      "outputs": [
        {
          "output_type": "stream",
          "name": "stdout",
          "text": [
            "     Months  Tesla Model 5  Kia Soul EV  BMW I3\n",
            "0   January            900          117     382\n",
            "1  February           1750          152     318\n",
            "2     March           3450          171     703\n",
            "3     April           1125          167     516\n",
            "4       May           1620          129     506\n",
            "\n",
            "-----Using boolean indexing-----\n",
            "\n",
            "     Months  Tesla Model 5  Kia Soul EV  BMW I3\n",
            "0   January            900          117     382\n",
            "1  February           1750          152     318\n",
            "3     April           1125          167     516\n",
            "4       May           1620          129     506\n"
          ]
        }
      ]
    },
    {
      "cell_type": "markdown",
      "source": [
        "here, we are presenting the car sales data for the three different type of the cars with the five months. here, we are creating the dataframe using the specified data. here we are using different type for removing the row, we are using the boolean indexing where looking for the data row where the car type where the car type sales exceed 2000 units here its Tesla Model 5. after that we are using the new_df for displaying the remaining data from the dataframe.\n",
        "now, displaying the dataframe where this condition is not satisfied.\n",
        "\n",
        "this is shows how to filtered the data from the dataframe using the different type of techniques and conditions.  this data is looking for the rows where the Tesla Model 5 which have less then 2000 unit sales.\n"
      ],
      "metadata": {
        "id": "sqj1590HXJaV"
      }
    },
    {
      "cell_type": "code",
      "source": [
        "#Selects data in a column by using boolean indexing\n",
        "#Selects the columns where Tesla Model 5 is greater than 1000 & BMW I3 is less than 1500\n",
        "new_df = df[(df['Tesla Model 5'] > 1500) & (df['BMW I3'] < 600)]\n",
        "print(new_df)"
      ],
      "metadata": {
        "colab": {
          "base_uri": "https://localhost:8080/"
        },
        "id": "Y9Y8DD2Oiovu",
        "outputId": "88c6ab49-6d5b-4d2e-c425-8776cba96b91"
      },
      "execution_count": null,
      "outputs": [
        {
          "output_type": "stream",
          "name": "stdout",
          "text": [
            "     Months  Tesla Model 5  Kia Soul EV  BMW I3\n",
            "1  February           1750          152     318\n",
            "4       May           1620          129     506\n"
          ]
        }
      ]
    },
    {
      "cell_type": "markdown",
      "source": [
        "here, we are using the conditions to displays the data based on the particular sales threshold.\n",
        "df[(df['Tesla Model 5'] > 1500) & (df['BMW I3'] < 600)] this is  use for selecting the particualr row from the dataframe where the sales of the Tesla Model 5 is greater than 1500 units and BMW I3 sales is less then 600 units.\n",
        "\n",
        "here, after that creating the new_df dataframe which satisfies the conditions, after that we are displaying the car sales data.\n",
        "\n",
        "in summarise, we are using the boolean index filter for data with specific condition. this is allwed to find for specific data.\n"
      ],
      "metadata": {
        "id": "Mf-tojmHau3p"
      }
    },
    {
      "cell_type": "markdown",
      "source": [
        "####5. Creating new columns"
      ],
      "metadata": {
        "id": "Om2txq0HPM10"
      }
    },
    {
      "cell_type": "code",
      "source": [
        "df['Monthly Average'] = (df['Tesla Model 5'] + df['Kia Soul EV'] + df['BMW I3']) / 3\n",
        "print(df)"
      ],
      "metadata": {
        "colab": {
          "base_uri": "https://localhost:8080/"
        },
        "id": "LyeEb7Pqirw3",
        "outputId": "ad60c054-ab11-452e-8254-9dd92566db30"
      },
      "execution_count": null,
      "outputs": [
        {
          "output_type": "stream",
          "name": "stdout",
          "text": [
            "     Months  Tesla Model 5  Kia Soul EV  BMW I3  Monthly Average\n",
            "0   January            900          117     382       466.333333\n",
            "1  February           1750          152     318       740.000000\n",
            "2     March           3450          171     703      1441.333333\n",
            "3     April           1125          167     516       602.666667\n",
            "4       May           1620          129     506       751.666667\n"
          ]
        }
      ]
    },
    {
      "cell_type": "markdown",
      "source": [
        "df['Monthly Average'] = (df['Tesla Model 5'] + df['Kia Soul EV'] + df['BMW I3']) / 3, here, we are first performing addition of the each car sales for finding the average month of the sales deviding by the 3. this calculate the monthly average by summing them and devide by 3 and stored this value in the new column name as monthly_average.\n",
        "\n",
        "now, printing the new dataframe which actually conclude the new data column monthly_average. this shows the monthly avrage of the each car types. this is used for checking the avrage performance of the sales of different car type for the monthly sales.  \n"
      ],
      "metadata": {
        "id": "QIM2BsazfIBL"
      }
    },
    {
      "cell_type": "code",
      "source": [
        "# Computing the average amount of cars sold each month\n",
        "df[\"Monthly Average\"] = df.mean(axis=1)\n",
        "print(df)\n",
        "\n",
        "# Can compare this example to the example above to see\n",
        "# how both techniques can be used to achieve the same result"
      ],
      "metadata": {
        "colab": {
          "base_uri": "https://localhost:8080/"
        },
        "id": "EWGoZJMBiw4G",
        "outputId": "846a189d-c4c4-4c5b-b8bd-70ead024bb40"
      },
      "execution_count": null,
      "outputs": [
        {
          "output_type": "stream",
          "name": "stdout",
          "text": [
            "     Months  Tesla Model 5  Kia Soul EV  BMW I3  Monthly Average\n",
            "0   January            900          117     382       466.333333\n",
            "1  February           1750          152     318       740.000000\n",
            "2     March           3450          171     703      1441.333333\n",
            "3     April           1125          167     516       602.666667\n",
            "4       May           1620          129     506       751.666667\n"
          ]
        },
        {
          "output_type": "stream",
          "name": "stderr",
          "text": [
            "<ipython-input-11-c436871d431f>:2: FutureWarning: Dropping of nuisance columns in DataFrame reductions (with 'numeric_only=None') is deprecated; in a future version this will raise TypeError.  Select only valid columns before calling the reduction.\n",
            "  df[\"Monthly Average\"] = df.mean(axis=1)\n"
          ]
        }
      ]
    },
    {
      "cell_type": "markdown",
      "source": [
        "here, we are using the mean of the each month and assign the result of the average of the new column monthly average in the dataframe.\n",
        "\n",
        "here, we are printing the dataframe which include the new column monthly average , which shows the mean value of the each row, shows that average sales of the each of the month for all car types.\n",
        "\n",
        "this is the new approach used for calculating the monthly average sakes, this is show how the mean is used with the row-wize calculations.\n"
      ],
      "metadata": {
        "id": "ZWwATHXVhg9Z"
      }
    },
    {
      "cell_type": "code",
      "source": [
        "#Hard-coded data for output\n",
        "#This data will give important information about 4 students\n",
        "studentInformation = {'Students':['Marley Stevens', 'Emily Brookes','John Garcia','Steven Kosner'],\n",
        "                      'ID' : [1568921,1389012,1467892,1789021],\n",
        "                      'Grade Level': ['Sophomore','Sophomore','Freshman','Senior'],\n",
        "                      'Major':['Computer Science','Dance','English','Mathematics']}\n",
        "\n",
        "#Creates a data frame with the correct order of columns\n",
        "df_students = pd.DataFrame(studentInformation,columns=[\"Students\",\"ID\",\"Grade Level\",\"Major\"])\n",
        "\n",
        "#Creates a function to assign graduation years to the various grade levels of the studenta\n",
        "def label_graduation(row):\n",
        "    if row[\"Grade Level\"]== \"Freshman\":\n",
        "        return 2021\n",
        "    if row[\"Grade Level\"]==\"Sophomore\":\n",
        "        return 2020\n",
        "    if row[\"Grade Level\"]== \"Junior\":\n",
        "        return 2019\n",
        "    if row[\"Grade Level\"]==\"Senior\":\n",
        "        return 2018\n",
        "\n",
        "#Creates a new column to represent the graduation years of the students\n",
        "df_students[\"Graduation Year\"]=df_students.apply(label_graduation,axis=1)\n",
        "\n",
        "print(df_students)"
      ],
      "metadata": {
        "colab": {
          "base_uri": "https://localhost:8080/"
        },
        "id": "7d-Y4QQOiyFy",
        "outputId": "104d90f7-310d-45d9-ee44-a34bf3a420c9"
      },
      "execution_count": null,
      "outputs": [
        {
          "output_type": "stream",
          "name": "stdout",
          "text": [
            "         Students       ID Grade Level             Major  Graduation Year\n",
            "0  Marley Stevens  1568921   Sophomore  Computer Science             2020\n",
            "1   Emily Brookes  1389012   Sophomore             Dance             2020\n",
            "2     John Garcia  1467892    Freshman           English             2021\n",
            "3   Steven Kosner  1789021      Senior       Mathematics             2018\n"
          ]
        }
      ]
    },
    {
      "cell_type": "markdown",
      "source": [
        "first we are creating the dataframe for student information which have 4 different columns such as id, grade level, major and names. here we are using the function label_graduation which is give the lable based on the grade level of the students. now, this finction is applied to each of the row in the dataframe. for that we are uisng apply method. result for addition of the new column graduation year. which shows the calculation of the graduation year of the each student.\n",
        "\n",
        "here after that we are printing the df_student and completing the student  information, including the new column graduation year, this is given information about the student details and also calculate the graduation year.\n"
      ],
      "metadata": {
        "id": "qj0wERvflqPc"
      }
    },
    {
      "cell_type": "markdown",
      "source": [
        "####6. Grouped Calculations"
      ],
      "metadata": {
        "id": "UxDZikd_P0U7"
      }
    },
    {
      "cell_type": "code",
      "source": [
        "ipl_data = {'Team': ['Riders', 'Riders', 'Devils', 'Devils', 'Kings',\n",
        "            'kings', 'Kings', 'Kings', 'Riders', 'Royals', 'Royals', 'Riders'],\n",
        "            'Rank': [1, 2, 2, 3, 3,4 ,1 ,1,2 , 4,1,2],\n",
        "            'Year': [2014,2015,2014,2015,2014,2015,2016,2017,2016,2014,2015,2017],\n",
        "            'Points':[876,789,863,673,741,812,756,788,694,701,804,690]}\n",
        "df = pd.DataFrame(ipl_data)\n",
        "print(df)"
      ],
      "metadata": {
        "colab": {
          "base_uri": "https://localhost:8080/"
        },
        "id": "zhE_l90Ci2mW",
        "outputId": "8815e0f7-cb39-4dd6-aacf-a6977df1ee59"
      },
      "execution_count": null,
      "outputs": [
        {
          "output_type": "stream",
          "name": "stdout",
          "text": [
            "      Team  Rank  Year  Points\n",
            "0   Riders     1  2014     876\n",
            "1   Riders     2  2015     789\n",
            "2   Devils     2  2014     863\n",
            "3   Devils     3  2015     673\n",
            "4    Kings     3  2014     741\n",
            "5    kings     4  2015     812\n",
            "6    Kings     1  2016     756\n",
            "7    Kings     1  2017     788\n",
            "8   Riders     2  2016     694\n",
            "9   Royals     4  2014     701\n",
            "10  Royals     1  2015     804\n",
            "11  Riders     2  2017     690\n"
          ]
        }
      ]
    },
    {
      "cell_type": "markdown",
      "source": [
        "this is used for checking the performance of the different cricket teams in india premier league for the different years.\n",
        "first generating the datafram for cricket and giving column name and data is team, year,rank and points. now,we are creating the dataframe using pandas pd library.\n",
        "\n",
        " at the last we are printing the data using the pd.head() function. this data is shows the trendsa and pattern of the data.\n",
        "\n"
      ],
      "metadata": {
        "id": "YZoOwvI6t-7o"
      }
    },
    {
      "cell_type": "code",
      "source": [
        "grouped = df.groupby('Year')\n",
        "print (grouped['Points'].mean())\n",
        "\n",
        "print()\n",
        "\n",
        "##This can also be done in one line\n",
        "print(df.groupby('Year')['Points'].mean())"
      ],
      "metadata": {
        "colab": {
          "base_uri": "https://localhost:8080/"
        },
        "id": "j3FDMzMFmMHr",
        "outputId": "1580909a-4178-4804-bc91-ca378e537f3d"
      },
      "execution_count": null,
      "outputs": [
        {
          "output_type": "stream",
          "name": "stdout",
          "text": [
            "Year\n",
            "2014    795.25\n",
            "2015    769.50\n",
            "2016    725.00\n",
            "2017    739.00\n",
            "Name: Points, dtype: float64\n",
            "\n",
            "Year\n",
            "2014    795.25\n",
            "2015    769.50\n",
            "2016    725.00\n",
            "2017    739.00\n",
            "Name: Points, dtype: float64\n"
          ]
        }
      ]
    },
    {
      "cell_type": "markdown",
      "source": [
        "here, we are using the groupby method using pandas for group data in the dataframe. here we are grouping the data by year. here we are calculating the mean of the points columns for each of the year. here, output displays the average points by the teams in each of the IPL.\n",
        "\n",
        "here, we are showing two different ways to group by the columns. both the implementation get the same outputs just the approach of doing is different. this is show the performance of the teams for the years.\n",
        "\n",
        "\n"
      ],
      "metadata": {
        "id": "UpqDvEeMw30b"
      }
    },
    {
      "cell_type": "markdown",
      "source": [
        "####7. Handle missing data"
      ],
      "metadata": {
        "id": "h3eGdlGWP9gE"
      }
    },
    {
      "cell_type": "code",
      "source": [
        "#Handling missing data\n",
        "#This data frame is created with missing data represented by np.nan\n",
        "raw_data = {'First Name': ['Jason', np.nan, 'Tina', 'Jake', 'Amy'],\n",
        "        'Last Name': ['Miller', np.nan, 'Ali', 'Milner', 'Cooze'],\n",
        "        'Age': [42, np.nan, 36, 24, 73],\n",
        "        'Sex': ['m', np.nan, 'f', 'm', 'f'],\n",
        "        'Pre Test-score': [4, np.nan, np.nan, 2, 3],\n",
        "        'Post Test-score': [25, np.nan, np.nan, 62, 70]}\n",
        "df = pd.DataFrame(raw_data, columns = ['First Name', 'Last Name', 'Age',\n",
        "                                       'Sex', 'Pre Test-score', 'Post Test-score'])\n",
        "\n",
        "print(df)"
      ],
      "metadata": {
        "colab": {
          "base_uri": "https://localhost:8080/"
        },
        "id": "LUXpKIWFmOyS",
        "outputId": "6ca2397e-f3bc-4e6b-de82-464f8caab80e"
      },
      "execution_count": null,
      "outputs": [
        {
          "output_type": "stream",
          "name": "stdout",
          "text": [
            "  First Name Last Name   Age  Sex  Pre Test-score  Post Test-score\n",
            "0      Jason    Miller  42.0    m             4.0             25.0\n",
            "1        NaN       NaN   NaN  NaN             NaN              NaN\n",
            "2       Tina       Ali  36.0    f             NaN              NaN\n",
            "3       Jake    Milner  24.0    m             2.0             62.0\n",
            "4        Amy     Cooze  73.0    f             3.0             70.0\n"
          ]
        }
      ]
    },
    {
      "cell_type": "markdown",
      "source": [
        "here, we are creating the data random and creating the dataframe this is used the random individual person data.  its also consider the missing vale np.nan which is numpy notation for the missing value.\n",
        "\n",
        "\n",
        "The DataFrame exhibits missing data for several individuals across different columns. The missing values are denoted as `np.nan` in the DataFrame and represent the absence of specific information for those individuals.\n",
        "\n",
        "Handling such missing data is essential during data analysis and processing to ensure the accuracy and reliability of the insights derived from the dataset. Various techniques can be employed to manage missing data, such as imputation, removal, or interpolation, depending on the context and the nature of the dataset."
      ],
      "metadata": {
        "id": "jqZ3yhrR112u"
      }
    },
    {
      "cell_type": "code",
      "source": [
        "#Removing rows with missing data\n",
        "df_no_missing = df.dropna()\n",
        "\n",
        "##We can just use the name of the data frame to print its values\n",
        "df_no_missing"
      ],
      "metadata": {
        "colab": {
          "base_uri": "https://localhost:8080/",
          "height": 143
        },
        "id": "JRb2fVaWmReP",
        "outputId": "ab6db124-ffae-4bd1-9e52-345bc6b625cf"
      },
      "execution_count": null,
      "outputs": [
        {
          "output_type": "execute_result",
          "data": {
            "text/plain": [
              "  First Name Last Name   Age Sex  Pre Test-score  Post Test-score\n",
              "0      Jason    Miller  42.0   m             4.0             25.0\n",
              "3       Jake    Milner  24.0   m             2.0             62.0\n",
              "4        Amy     Cooze  73.0   f             3.0             70.0"
            ],
            "text/html": [
              "\n",
              "  <div id=\"df-da625a14-3a88-4b13-8a60-aa1ca191d3f2\" class=\"colab-df-container\">\n",
              "    <div>\n",
              "<style scoped>\n",
              "    .dataframe tbody tr th:only-of-type {\n",
              "        vertical-align: middle;\n",
              "    }\n",
              "\n",
              "    .dataframe tbody tr th {\n",
              "        vertical-align: top;\n",
              "    }\n",
              "\n",
              "    .dataframe thead th {\n",
              "        text-align: right;\n",
              "    }\n",
              "</style>\n",
              "<table border=\"1\" class=\"dataframe\">\n",
              "  <thead>\n",
              "    <tr style=\"text-align: right;\">\n",
              "      <th></th>\n",
              "      <th>First Name</th>\n",
              "      <th>Last Name</th>\n",
              "      <th>Age</th>\n",
              "      <th>Sex</th>\n",
              "      <th>Pre Test-score</th>\n",
              "      <th>Post Test-score</th>\n",
              "    </tr>\n",
              "  </thead>\n",
              "  <tbody>\n",
              "    <tr>\n",
              "      <th>0</th>\n",
              "      <td>Jason</td>\n",
              "      <td>Miller</td>\n",
              "      <td>42.0</td>\n",
              "      <td>m</td>\n",
              "      <td>4.0</td>\n",
              "      <td>25.0</td>\n",
              "    </tr>\n",
              "    <tr>\n",
              "      <th>3</th>\n",
              "      <td>Jake</td>\n",
              "      <td>Milner</td>\n",
              "      <td>24.0</td>\n",
              "      <td>m</td>\n",
              "      <td>2.0</td>\n",
              "      <td>62.0</td>\n",
              "    </tr>\n",
              "    <tr>\n",
              "      <th>4</th>\n",
              "      <td>Amy</td>\n",
              "      <td>Cooze</td>\n",
              "      <td>73.0</td>\n",
              "      <td>f</td>\n",
              "      <td>3.0</td>\n",
              "      <td>70.0</td>\n",
              "    </tr>\n",
              "  </tbody>\n",
              "</table>\n",
              "</div>\n",
              "    <div class=\"colab-df-buttons\">\n",
              "\n",
              "  <div class=\"colab-df-container\">\n",
              "    <button class=\"colab-df-convert\" onclick=\"convertToInteractive('df-da625a14-3a88-4b13-8a60-aa1ca191d3f2')\"\n",
              "            title=\"Convert this dataframe to an interactive table.\"\n",
              "            style=\"display:none;\">\n",
              "\n",
              "  <svg xmlns=\"http://www.w3.org/2000/svg\" height=\"24px\" viewBox=\"0 -960 960 960\">\n",
              "    <path d=\"M120-120v-720h720v720H120Zm60-500h600v-160H180v160Zm220 220h160v-160H400v160Zm0 220h160v-160H400v160ZM180-400h160v-160H180v160Zm440 0h160v-160H620v160ZM180-180h160v-160H180v160Zm440 0h160v-160H620v160Z\"/>\n",
              "  </svg>\n",
              "    </button>\n",
              "\n",
              "  <style>\n",
              "    .colab-df-container {\n",
              "      display:flex;\n",
              "      gap: 12px;\n",
              "    }\n",
              "\n",
              "    .colab-df-convert {\n",
              "      background-color: #E8F0FE;\n",
              "      border: none;\n",
              "      border-radius: 50%;\n",
              "      cursor: pointer;\n",
              "      display: none;\n",
              "      fill: #1967D2;\n",
              "      height: 32px;\n",
              "      padding: 0 0 0 0;\n",
              "      width: 32px;\n",
              "    }\n",
              "\n",
              "    .colab-df-convert:hover {\n",
              "      background-color: #E2EBFA;\n",
              "      box-shadow: 0px 1px 2px rgba(60, 64, 67, 0.3), 0px 1px 3px 1px rgba(60, 64, 67, 0.15);\n",
              "      fill: #174EA6;\n",
              "    }\n",
              "\n",
              "    .colab-df-buttons div {\n",
              "      margin-bottom: 4px;\n",
              "    }\n",
              "\n",
              "    [theme=dark] .colab-df-convert {\n",
              "      background-color: #3B4455;\n",
              "      fill: #D2E3FC;\n",
              "    }\n",
              "\n",
              "    [theme=dark] .colab-df-convert:hover {\n",
              "      background-color: #434B5C;\n",
              "      box-shadow: 0px 1px 3px 1px rgba(0, 0, 0, 0.15);\n",
              "      filter: drop-shadow(0px 1px 2px rgba(0, 0, 0, 0.3));\n",
              "      fill: #FFFFFF;\n",
              "    }\n",
              "  </style>\n",
              "\n",
              "    <script>\n",
              "      const buttonEl =\n",
              "        document.querySelector('#df-da625a14-3a88-4b13-8a60-aa1ca191d3f2 button.colab-df-convert');\n",
              "      buttonEl.style.display =\n",
              "        google.colab.kernel.accessAllowed ? 'block' : 'none';\n",
              "\n",
              "      async function convertToInteractive(key) {\n",
              "        const element = document.querySelector('#df-da625a14-3a88-4b13-8a60-aa1ca191d3f2');\n",
              "        const dataTable =\n",
              "          await google.colab.kernel.invokeFunction('convertToInteractive',\n",
              "                                                    [key], {});\n",
              "        if (!dataTable) return;\n",
              "\n",
              "        const docLinkHtml = 'Like what you see? Visit the ' +\n",
              "          '<a target=\"_blank\" href=https://colab.research.google.com/notebooks/data_table.ipynb>data table notebook</a>'\n",
              "          + ' to learn more about interactive tables.';\n",
              "        element.innerHTML = '';\n",
              "        dataTable['output_type'] = 'display_data';\n",
              "        await google.colab.output.renderOutput(dataTable, element);\n",
              "        const docLink = document.createElement('div');\n",
              "        docLink.innerHTML = docLinkHtml;\n",
              "        element.appendChild(docLink);\n",
              "      }\n",
              "    </script>\n",
              "  </div>\n",
              "\n",
              "\n",
              "<div id=\"df-fd8c34d8-01c8-4fd5-9c2b-84ad25c08de3\">\n",
              "  <button class=\"colab-df-quickchart\" onclick=\"quickchart('df-fd8c34d8-01c8-4fd5-9c2b-84ad25c08de3')\"\n",
              "            title=\"Suggest charts.\"\n",
              "            style=\"display:none;\">\n",
              "\n",
              "<svg xmlns=\"http://www.w3.org/2000/svg\" height=\"24px\"viewBox=\"0 0 24 24\"\n",
              "     width=\"24px\">\n",
              "    <g>\n",
              "        <path d=\"M19 3H5c-1.1 0-2 .9-2 2v14c0 1.1.9 2 2 2h14c1.1 0 2-.9 2-2V5c0-1.1-.9-2-2-2zM9 17H7v-7h2v7zm4 0h-2V7h2v10zm4 0h-2v-4h2v4z\"/>\n",
              "    </g>\n",
              "</svg>\n",
              "  </button>\n",
              "\n",
              "<style>\n",
              "  .colab-df-quickchart {\n",
              "      --bg-color: #E8F0FE;\n",
              "      --fill-color: #1967D2;\n",
              "      --hover-bg-color: #E2EBFA;\n",
              "      --hover-fill-color: #174EA6;\n",
              "      --disabled-fill-color: #AAA;\n",
              "      --disabled-bg-color: #DDD;\n",
              "  }\n",
              "\n",
              "  [theme=dark] .colab-df-quickchart {\n",
              "      --bg-color: #3B4455;\n",
              "      --fill-color: #D2E3FC;\n",
              "      --hover-bg-color: #434B5C;\n",
              "      --hover-fill-color: #FFFFFF;\n",
              "      --disabled-bg-color: #3B4455;\n",
              "      --disabled-fill-color: #666;\n",
              "  }\n",
              "\n",
              "  .colab-df-quickchart {\n",
              "    background-color: var(--bg-color);\n",
              "    border: none;\n",
              "    border-radius: 50%;\n",
              "    cursor: pointer;\n",
              "    display: none;\n",
              "    fill: var(--fill-color);\n",
              "    height: 32px;\n",
              "    padding: 0;\n",
              "    width: 32px;\n",
              "  }\n",
              "\n",
              "  .colab-df-quickchart:hover {\n",
              "    background-color: var(--hover-bg-color);\n",
              "    box-shadow: 0 1px 2px rgba(60, 64, 67, 0.3), 0 1px 3px 1px rgba(60, 64, 67, 0.15);\n",
              "    fill: var(--button-hover-fill-color);\n",
              "  }\n",
              "\n",
              "  .colab-df-quickchart-complete:disabled,\n",
              "  .colab-df-quickchart-complete:disabled:hover {\n",
              "    background-color: var(--disabled-bg-color);\n",
              "    fill: var(--disabled-fill-color);\n",
              "    box-shadow: none;\n",
              "  }\n",
              "\n",
              "  .colab-df-spinner {\n",
              "    border: 2px solid var(--fill-color);\n",
              "    border-color: transparent;\n",
              "    border-bottom-color: var(--fill-color);\n",
              "    animation:\n",
              "      spin 1s steps(1) infinite;\n",
              "  }\n",
              "\n",
              "  @keyframes spin {\n",
              "    0% {\n",
              "      border-color: transparent;\n",
              "      border-bottom-color: var(--fill-color);\n",
              "      border-left-color: var(--fill-color);\n",
              "    }\n",
              "    20% {\n",
              "      border-color: transparent;\n",
              "      border-left-color: var(--fill-color);\n",
              "      border-top-color: var(--fill-color);\n",
              "    }\n",
              "    30% {\n",
              "      border-color: transparent;\n",
              "      border-left-color: var(--fill-color);\n",
              "      border-top-color: var(--fill-color);\n",
              "      border-right-color: var(--fill-color);\n",
              "    }\n",
              "    40% {\n",
              "      border-color: transparent;\n",
              "      border-right-color: var(--fill-color);\n",
              "      border-top-color: var(--fill-color);\n",
              "    }\n",
              "    60% {\n",
              "      border-color: transparent;\n",
              "      border-right-color: var(--fill-color);\n",
              "    }\n",
              "    80% {\n",
              "      border-color: transparent;\n",
              "      border-right-color: var(--fill-color);\n",
              "      border-bottom-color: var(--fill-color);\n",
              "    }\n",
              "    90% {\n",
              "      border-color: transparent;\n",
              "      border-bottom-color: var(--fill-color);\n",
              "    }\n",
              "  }\n",
              "</style>\n",
              "\n",
              "  <script>\n",
              "    async function quickchart(key) {\n",
              "      const quickchartButtonEl =\n",
              "        document.querySelector('#' + key + ' button');\n",
              "      quickchartButtonEl.disabled = true;  // To prevent multiple clicks.\n",
              "      quickchartButtonEl.classList.add('colab-df-spinner');\n",
              "      try {\n",
              "        const charts = await google.colab.kernel.invokeFunction(\n",
              "            'suggestCharts', [key], {});\n",
              "      } catch (error) {\n",
              "        console.error('Error during call to suggestCharts:', error);\n",
              "      }\n",
              "      quickchartButtonEl.classList.remove('colab-df-spinner');\n",
              "      quickchartButtonEl.classList.add('colab-df-quickchart-complete');\n",
              "    }\n",
              "    (() => {\n",
              "      let quickchartButtonEl =\n",
              "        document.querySelector('#df-fd8c34d8-01c8-4fd5-9c2b-84ad25c08de3 button');\n",
              "      quickchartButtonEl.style.display =\n",
              "        google.colab.kernel.accessAllowed ? 'block' : 'none';\n",
              "    })();\n",
              "  </script>\n",
              "</div>\n",
              "    </div>\n",
              "  </div>\n"
            ]
          },
          "metadata": {},
          "execution_count": 16
        }
      ]
    },
    {
      "cell_type": "markdown",
      "source": [
        "Here, our main motive is to remove the missing values from the dataset. for dropping the nan values from dataset.  the dropna() is used to remove the row which is having missing data from the dataframe and stored in the variable name as df_no_missing.\n",
        "at the last we are printing the remaining data after removing the missing values row.\n",
        "focusing on the data its have columns as first name, last name, age,sex, pre-test score and post test score. this is shows that there is no missing value in the data."
      ],
      "metadata": {
        "id": "d01nyWGHqTT0"
      }
    },
    {
      "cell_type": "code",
      "source": [
        "#Filling missing data with a specific value\n",
        "df_fill_values = df.fillna(0)\n",
        "df_fill_values"
      ],
      "metadata": {
        "colab": {
          "base_uri": "https://localhost:8080/",
          "height": 206
        },
        "id": "YeTvzDIZmUO1",
        "outputId": "8c589bfb-0f27-4fdd-825d-8635743e6222"
      },
      "execution_count": null,
      "outputs": [
        {
          "output_type": "execute_result",
          "data": {
            "text/plain": [
              "  First Name Last Name   Age Sex  Pre Test-score  Post Test-score\n",
              "0      Jason    Miller  42.0   m             4.0             25.0\n",
              "1          0         0   0.0   0             0.0              0.0\n",
              "2       Tina       Ali  36.0   f             0.0              0.0\n",
              "3       Jake    Milner  24.0   m             2.0             62.0\n",
              "4        Amy     Cooze  73.0   f             3.0             70.0"
            ],
            "text/html": [
              "\n",
              "  <div id=\"df-93703b3c-e5cd-4d8a-88da-16a8270a4f51\" class=\"colab-df-container\">\n",
              "    <div>\n",
              "<style scoped>\n",
              "    .dataframe tbody tr th:only-of-type {\n",
              "        vertical-align: middle;\n",
              "    }\n",
              "\n",
              "    .dataframe tbody tr th {\n",
              "        vertical-align: top;\n",
              "    }\n",
              "\n",
              "    .dataframe thead th {\n",
              "        text-align: right;\n",
              "    }\n",
              "</style>\n",
              "<table border=\"1\" class=\"dataframe\">\n",
              "  <thead>\n",
              "    <tr style=\"text-align: right;\">\n",
              "      <th></th>\n",
              "      <th>First Name</th>\n",
              "      <th>Last Name</th>\n",
              "      <th>Age</th>\n",
              "      <th>Sex</th>\n",
              "      <th>Pre Test-score</th>\n",
              "      <th>Post Test-score</th>\n",
              "    </tr>\n",
              "  </thead>\n",
              "  <tbody>\n",
              "    <tr>\n",
              "      <th>0</th>\n",
              "      <td>Jason</td>\n",
              "      <td>Miller</td>\n",
              "      <td>42.0</td>\n",
              "      <td>m</td>\n",
              "      <td>4.0</td>\n",
              "      <td>25.0</td>\n",
              "    </tr>\n",
              "    <tr>\n",
              "      <th>1</th>\n",
              "      <td>0</td>\n",
              "      <td>0</td>\n",
              "      <td>0.0</td>\n",
              "      <td>0</td>\n",
              "      <td>0.0</td>\n",
              "      <td>0.0</td>\n",
              "    </tr>\n",
              "    <tr>\n",
              "      <th>2</th>\n",
              "      <td>Tina</td>\n",
              "      <td>Ali</td>\n",
              "      <td>36.0</td>\n",
              "      <td>f</td>\n",
              "      <td>0.0</td>\n",
              "      <td>0.0</td>\n",
              "    </tr>\n",
              "    <tr>\n",
              "      <th>3</th>\n",
              "      <td>Jake</td>\n",
              "      <td>Milner</td>\n",
              "      <td>24.0</td>\n",
              "      <td>m</td>\n",
              "      <td>2.0</td>\n",
              "      <td>62.0</td>\n",
              "    </tr>\n",
              "    <tr>\n",
              "      <th>4</th>\n",
              "      <td>Amy</td>\n",
              "      <td>Cooze</td>\n",
              "      <td>73.0</td>\n",
              "      <td>f</td>\n",
              "      <td>3.0</td>\n",
              "      <td>70.0</td>\n",
              "    </tr>\n",
              "  </tbody>\n",
              "</table>\n",
              "</div>\n",
              "    <div class=\"colab-df-buttons\">\n",
              "\n",
              "  <div class=\"colab-df-container\">\n",
              "    <button class=\"colab-df-convert\" onclick=\"convertToInteractive('df-93703b3c-e5cd-4d8a-88da-16a8270a4f51')\"\n",
              "            title=\"Convert this dataframe to an interactive table.\"\n",
              "            style=\"display:none;\">\n",
              "\n",
              "  <svg xmlns=\"http://www.w3.org/2000/svg\" height=\"24px\" viewBox=\"0 -960 960 960\">\n",
              "    <path d=\"M120-120v-720h720v720H120Zm60-500h600v-160H180v160Zm220 220h160v-160H400v160Zm0 220h160v-160H400v160ZM180-400h160v-160H180v160Zm440 0h160v-160H620v160ZM180-180h160v-160H180v160Zm440 0h160v-160H620v160Z\"/>\n",
              "  </svg>\n",
              "    </button>\n",
              "\n",
              "  <style>\n",
              "    .colab-df-container {\n",
              "      display:flex;\n",
              "      gap: 12px;\n",
              "    }\n",
              "\n",
              "    .colab-df-convert {\n",
              "      background-color: #E8F0FE;\n",
              "      border: none;\n",
              "      border-radius: 50%;\n",
              "      cursor: pointer;\n",
              "      display: none;\n",
              "      fill: #1967D2;\n",
              "      height: 32px;\n",
              "      padding: 0 0 0 0;\n",
              "      width: 32px;\n",
              "    }\n",
              "\n",
              "    .colab-df-convert:hover {\n",
              "      background-color: #E2EBFA;\n",
              "      box-shadow: 0px 1px 2px rgba(60, 64, 67, 0.3), 0px 1px 3px 1px rgba(60, 64, 67, 0.15);\n",
              "      fill: #174EA6;\n",
              "    }\n",
              "\n",
              "    .colab-df-buttons div {\n",
              "      margin-bottom: 4px;\n",
              "    }\n",
              "\n",
              "    [theme=dark] .colab-df-convert {\n",
              "      background-color: #3B4455;\n",
              "      fill: #D2E3FC;\n",
              "    }\n",
              "\n",
              "    [theme=dark] .colab-df-convert:hover {\n",
              "      background-color: #434B5C;\n",
              "      box-shadow: 0px 1px 3px 1px rgba(0, 0, 0, 0.15);\n",
              "      filter: drop-shadow(0px 1px 2px rgba(0, 0, 0, 0.3));\n",
              "      fill: #FFFFFF;\n",
              "    }\n",
              "  </style>\n",
              "\n",
              "    <script>\n",
              "      const buttonEl =\n",
              "        document.querySelector('#df-93703b3c-e5cd-4d8a-88da-16a8270a4f51 button.colab-df-convert');\n",
              "      buttonEl.style.display =\n",
              "        google.colab.kernel.accessAllowed ? 'block' : 'none';\n",
              "\n",
              "      async function convertToInteractive(key) {\n",
              "        const element = document.querySelector('#df-93703b3c-e5cd-4d8a-88da-16a8270a4f51');\n",
              "        const dataTable =\n",
              "          await google.colab.kernel.invokeFunction('convertToInteractive',\n",
              "                                                    [key], {});\n",
              "        if (!dataTable) return;\n",
              "\n",
              "        const docLinkHtml = 'Like what you see? Visit the ' +\n",
              "          '<a target=\"_blank\" href=https://colab.research.google.com/notebooks/data_table.ipynb>data table notebook</a>'\n",
              "          + ' to learn more about interactive tables.';\n",
              "        element.innerHTML = '';\n",
              "        dataTable['output_type'] = 'display_data';\n",
              "        await google.colab.output.renderOutput(dataTable, element);\n",
              "        const docLink = document.createElement('div');\n",
              "        docLink.innerHTML = docLinkHtml;\n",
              "        element.appendChild(docLink);\n",
              "      }\n",
              "    </script>\n",
              "  </div>\n",
              "\n",
              "\n",
              "<div id=\"df-4ce49749-3d56-40a7-a8f0-e5fbfa96be61\">\n",
              "  <button class=\"colab-df-quickchart\" onclick=\"quickchart('df-4ce49749-3d56-40a7-a8f0-e5fbfa96be61')\"\n",
              "            title=\"Suggest charts.\"\n",
              "            style=\"display:none;\">\n",
              "\n",
              "<svg xmlns=\"http://www.w3.org/2000/svg\" height=\"24px\"viewBox=\"0 0 24 24\"\n",
              "     width=\"24px\">\n",
              "    <g>\n",
              "        <path d=\"M19 3H5c-1.1 0-2 .9-2 2v14c0 1.1.9 2 2 2h14c1.1 0 2-.9 2-2V5c0-1.1-.9-2-2-2zM9 17H7v-7h2v7zm4 0h-2V7h2v10zm4 0h-2v-4h2v4z\"/>\n",
              "    </g>\n",
              "</svg>\n",
              "  </button>\n",
              "\n",
              "<style>\n",
              "  .colab-df-quickchart {\n",
              "      --bg-color: #E8F0FE;\n",
              "      --fill-color: #1967D2;\n",
              "      --hover-bg-color: #E2EBFA;\n",
              "      --hover-fill-color: #174EA6;\n",
              "      --disabled-fill-color: #AAA;\n",
              "      --disabled-bg-color: #DDD;\n",
              "  }\n",
              "\n",
              "  [theme=dark] .colab-df-quickchart {\n",
              "      --bg-color: #3B4455;\n",
              "      --fill-color: #D2E3FC;\n",
              "      --hover-bg-color: #434B5C;\n",
              "      --hover-fill-color: #FFFFFF;\n",
              "      --disabled-bg-color: #3B4455;\n",
              "      --disabled-fill-color: #666;\n",
              "  }\n",
              "\n",
              "  .colab-df-quickchart {\n",
              "    background-color: var(--bg-color);\n",
              "    border: none;\n",
              "    border-radius: 50%;\n",
              "    cursor: pointer;\n",
              "    display: none;\n",
              "    fill: var(--fill-color);\n",
              "    height: 32px;\n",
              "    padding: 0;\n",
              "    width: 32px;\n",
              "  }\n",
              "\n",
              "  .colab-df-quickchart:hover {\n",
              "    background-color: var(--hover-bg-color);\n",
              "    box-shadow: 0 1px 2px rgba(60, 64, 67, 0.3), 0 1px 3px 1px rgba(60, 64, 67, 0.15);\n",
              "    fill: var(--button-hover-fill-color);\n",
              "  }\n",
              "\n",
              "  .colab-df-quickchart-complete:disabled,\n",
              "  .colab-df-quickchart-complete:disabled:hover {\n",
              "    background-color: var(--disabled-bg-color);\n",
              "    fill: var(--disabled-fill-color);\n",
              "    box-shadow: none;\n",
              "  }\n",
              "\n",
              "  .colab-df-spinner {\n",
              "    border: 2px solid var(--fill-color);\n",
              "    border-color: transparent;\n",
              "    border-bottom-color: var(--fill-color);\n",
              "    animation:\n",
              "      spin 1s steps(1) infinite;\n",
              "  }\n",
              "\n",
              "  @keyframes spin {\n",
              "    0% {\n",
              "      border-color: transparent;\n",
              "      border-bottom-color: var(--fill-color);\n",
              "      border-left-color: var(--fill-color);\n",
              "    }\n",
              "    20% {\n",
              "      border-color: transparent;\n",
              "      border-left-color: var(--fill-color);\n",
              "      border-top-color: var(--fill-color);\n",
              "    }\n",
              "    30% {\n",
              "      border-color: transparent;\n",
              "      border-left-color: var(--fill-color);\n",
              "      border-top-color: var(--fill-color);\n",
              "      border-right-color: var(--fill-color);\n",
              "    }\n",
              "    40% {\n",
              "      border-color: transparent;\n",
              "      border-right-color: var(--fill-color);\n",
              "      border-top-color: var(--fill-color);\n",
              "    }\n",
              "    60% {\n",
              "      border-color: transparent;\n",
              "      border-right-color: var(--fill-color);\n",
              "    }\n",
              "    80% {\n",
              "      border-color: transparent;\n",
              "      border-right-color: var(--fill-color);\n",
              "      border-bottom-color: var(--fill-color);\n",
              "    }\n",
              "    90% {\n",
              "      border-color: transparent;\n",
              "      border-bottom-color: var(--fill-color);\n",
              "    }\n",
              "  }\n",
              "</style>\n",
              "\n",
              "  <script>\n",
              "    async function quickchart(key) {\n",
              "      const quickchartButtonEl =\n",
              "        document.querySelector('#' + key + ' button');\n",
              "      quickchartButtonEl.disabled = true;  // To prevent multiple clicks.\n",
              "      quickchartButtonEl.classList.add('colab-df-spinner');\n",
              "      try {\n",
              "        const charts = await google.colab.kernel.invokeFunction(\n",
              "            'suggestCharts', [key], {});\n",
              "      } catch (error) {\n",
              "        console.error('Error during call to suggestCharts:', error);\n",
              "      }\n",
              "      quickchartButtonEl.classList.remove('colab-df-spinner');\n",
              "      quickchartButtonEl.classList.add('colab-df-quickchart-complete');\n",
              "    }\n",
              "    (() => {\n",
              "      let quickchartButtonEl =\n",
              "        document.querySelector('#df-4ce49749-3d56-40a7-a8f0-e5fbfa96be61 button');\n",
              "      quickchartButtonEl.style.display =\n",
              "        google.colab.kernel.accessAllowed ? 'block' : 'none';\n",
              "    })();\n",
              "  </script>\n",
              "</div>\n",
              "    </div>\n",
              "  </div>\n"
            ]
          },
          "metadata": {},
          "execution_count": 17
        }
      ]
    },
    {
      "cell_type": "markdown",
      "source": [
        "here, we are using filna() method for filling the missing values in the dataframe with 0.0. now, in the dataframe contains all data but missing values are replaced by 0.0.\n",
        "\n",
        "at the last we are displaying the data to check the data records and to ensured that all data are included and missing values are replace by 0.0.  this method is used for record constitancy and analysis.\n"
      ],
      "metadata": {
        "id": "xATs4p_9rlq5"
      }
    },
    {
      "cell_type": "code",
      "source": [
        "#This data frame is created with missing data represented by np.nan\n",
        "raw_data = {'First Name': ['Jason', np.nan, 'Tina', 'Jake', 'Amy'],\n",
        "        'Last Name': ['Miller', np.nan, 'Ali', 'Milner', 'Cooze'],\n",
        "        'Age': [42, np.nan, 36, 24, 73],\n",
        "        'Sex': ['m', np.nan, 'f', 'm', 'f'],\n",
        "        'Pre Test-score': [4, np.nan, np.nan, 2, 3],\n",
        "        'Post Test-score': [25, np.nan, np.nan, 62, 70]}\n",
        "df = pd.DataFrame(raw_data, columns = ['First Name', 'Last Name', 'Age',\n",
        "                                       'Sex', 'Pre Test-score', 'Post Test-score'])\n",
        "\n",
        "#Fill missing in preTestScore with the mean value of #preTestScore\n",
        "df[\"Pre Test-score\"].fillna(df[\"Pre Test-score\"].mean(),inplace=True)\n",
        "print(df)"
      ],
      "metadata": {
        "colab": {
          "base_uri": "https://localhost:8080/"
        },
        "id": "WVxaLmIemXzg",
        "outputId": "ff5a3a75-7033-4e26-9b34-de7eae930769"
      },
      "execution_count": null,
      "outputs": [
        {
          "output_type": "stream",
          "name": "stdout",
          "text": [
            "  First Name Last Name   Age  Sex  Pre Test-score  Post Test-score\n",
            "0      Jason    Miller  42.0    m             4.0             25.0\n",
            "1        NaN       NaN   NaN  NaN             3.0              NaN\n",
            "2       Tina       Ali  36.0    f             3.0              NaN\n",
            "3       Jake    Milner  24.0    m             2.0             62.0\n",
            "4        Amy     Cooze  73.0    f             3.0             70.0\n"
          ]
        }
      ]
    },
    {
      "cell_type": "markdown",
      "source": [
        "here, first we are creating the dataframe with the missing values on it as np.nan, which shows that there is some missing data for individual. now, we are using fillna() method for fill the missing data values and test score is the mean of the pre test score column. here, inplace=True is checking that all changes are perfectly done in dataframe.\n",
        "\n",
        "\n",
        "after that we are printing the data where the missing value is replaced by the mean values of  pre -test score column. the value of the mean is 3.0. the other values are remian unchanged.  this is the best way to filling the missing value data with the mean values of the column for maintain the consistency of the data and its provide statistics measure of the central tendency of the data.  \n",
        "\n",
        "\n"
      ],
      "metadata": {
        "id": "ygcfzfYOtKdw"
      }
    },
    {
      "cell_type": "markdown",
      "source": [
        "####8. Output data in CSV format"
      ],
      "metadata": {
        "id": "fudpuESSQJLA"
      }
    },
    {
      "cell_type": "code",
      "source": [
        "#Handling missing data\n",
        "#This data frame is created with missing data represented by np.nan\n",
        "raw_data = {'First Name': ['Jason', np.nan, 'Tina', 'Jake', 'Amy'],\n",
        "        'Last Name': ['Miller', np.nan, 'Ali', 'Milner', 'Cooze'],\n",
        "        'Age': [42, np.nan, 36, 24, 73],\n",
        "        'Sex': ['m', np.nan, 'f', 'm', 'f'],\n",
        "        'Pre Test-score': [4, np.nan, np.nan, 2, 3],\n",
        "        'Post Test-score': [25, np.nan, np.nan, 62, 70]}\n",
        "df = pd.DataFrame(raw_data, columns = ['First Name', 'Last Name', 'Age', 'Sex',\n",
        "                                       'Pre Test-score', 'Post Test-score'])\n",
        "\n",
        "\n",
        "#.csv file will save to your computer\n",
        "df.to_csv('test.csv',encoding='utf-8', index=False)"
      ],
      "metadata": {
        "id": "5-7AEsSomZAi"
      },
      "execution_count": null,
      "outputs": []
    },
    {
      "cell_type": "markdown",
      "source": [
        "here, we are creating the dataframe with missing values which present as np.nan in data frame. now, we are using to_csv method for export this dataframe  as a csv file named as test.csv.\n",
        "\n",
        "now,we are saving the exported file in the local space. this is used for data presentation and share with other applications and with others. its easy for analyses and collaborate.\n",
        "\n",
        "All in all, here , we are creating dataframe with the  missing values represent as np.nan on it and create csv file from the data using to_csv and the end exporting that dataframe in the local space for further use.\n",
        "\n",
        "\n"
      ],
      "metadata": {
        "id": "flaq4IB0v3DO"
      }
    },
    {
      "cell_type": "code",
      "source": [
        "#Reading from a csv file\n",
        "df = pd.read_csv('test.csv')\n",
        "print(df)"
      ],
      "metadata": {
        "colab": {
          "base_uri": "https://localhost:8080/"
        },
        "id": "2VPW_K51meFR",
        "outputId": "cc6c91db-c161-4f7b-af47-8d29ed65e432"
      },
      "execution_count": null,
      "outputs": [
        {
          "output_type": "stream",
          "name": "stdout",
          "text": [
            "  First Name Last Name   Age  Sex  Pre Test-score  Post Test-score\n",
            "0      Jason    Miller  42.0    m             4.0             25.0\n",
            "1        NaN       NaN   NaN  NaN             NaN              NaN\n",
            "2       Tina       Ali  36.0    f             NaN              NaN\n",
            "3       Jake    Milner  24.0    m             2.0             62.0\n",
            "4        Amy     Cooze  73.0    f             3.0             70.0\n"
          ]
        }
      ]
    },
    {
      "cell_type": "markdown",
      "source": [
        "here, we are reading the file using read_csv() method from pandas library and printing the dataframe calling df inside the print(df) function.\n",
        "\n",
        "here, lightening up on the data its contains information about individuals information such as first name, last name, age,sex, pre-test score and post-test score. focusing on the details of the data here missing values are represented as NaN, which shows the missing values of some of the data.\n",
        "\n",
        "all in all, we are here reading csv file using read_csv() method and displaying the data using the print() method.\n"
      ],
      "metadata": {
        "id": "ZPUryH6e07hW"
      }
    },
    {
      "cell_type": "markdown",
      "source": [
        "####Write the observations of the above tutorial here**(5%)**\n"
      ],
      "metadata": {
        "id": "RFb4IhPtjdhM"
      }
    },
    {
      "cell_type": "markdown",
      "source": [
        "Here, we are using some different techniques to create the dataframe and how to handle missing values in the dataframe and create new dataframe from existing.\n",
        "\n",
        "first we are importing libraries such as pandas and numpy for data reading and array. first create dataframe, which contains three diffrent car type of the sales in the company for five months. which includes Tesla model 5, Kia soul EV and BMW I3.\n",
        "\n",
        "now, we are selecting the first and last row of the datarame using .iloc[0],.iloc[-1].\n",
        "\n",
        "after that we are using index for selecting the row from the dataframe and now giving the labels of the row rather then of the numerical values for better references.\n",
        "\n",
        "now, using BMW I3 is select and print the data of that row. now, after that we are deleting the row using df.drop['BMW I3'].\n",
        "\n",
        "now, we are creating the new dataframe df_cars using the same data. now, we are removing the row from the dataframe using df.drop() method.\n",
        "\n",
        "now, we use boolean indexing to select the rows based on the conditon given. here, we are using df[df['tesla model 5'] < 2000 which shows the data below the 2000 units.\n",
        "\n",
        "now,we are using the two condtion, first is tesla model 3 is greater then 1500 unit while BMW I3 with less then 600 unit for  that we are using boolean indexing.\n",
        "\n",
        "creating the new columns,now we are creating the new column name as monthly average which is the mean value of the all three car sales of the each month divide by 3.\n",
        "\n",
        "now,we are creating the new column name as monthly average and here we are showing the flexibility of the dataframe for creating the new column based on the row wise.\n",
        "\n",
        "new dataframe is creating for student for store student information, which include student id, grade -level and major of the student. here, we are adding graduation year and use grade level for that.\n",
        "\n",
        "now, we are using grouped calculation, for that we are using crickets data and its use for show the method of groupby() and mean().\n",
        "\n",
        "after that, we are using different techniques for handling missing values. for that we are using fillna() for filling the missing values. for that we are using mean value of the other column or fill the gapes using constant value such as 0.0 or removing the column of missing value. so, all in all, here we are using techniques to handle missing values data for getting more constency in the data for better analyse.\n",
        "\n",
        "In conculde, we are using dataframe  for data select, manipulate, boolean indexing, column create and group operate. we are showing the different techniques for data analysis and cleaning with highlight the felxibility and different variances of pandas for handling data.\n"
      ],
      "metadata": {
        "id": "xevZufVI3Mjy"
      }
    },
    {
      "cell_type": "markdown",
      "source": [
        "#Task 1:**(30%)**"
      ],
      "metadata": {
        "id": "IWCoXRAgQYPF"
      }
    },
    {
      "cell_type": "markdown",
      "source": [
        "###Question 1\n",
        "###Write a Pandas program to insert a new column in existing DataFrame.\n",
        "\n",
        "Sample DataFrame:\n",
        "#####Sample Python dictionary data and list labels:\n",
        "#####exam_data = {'name': ['Anastasia', 'Dima', 'Katherine', 'James', 'Emily', 'Michael', 'Matthew', 'Laura', 'Kevin', 'Jonas'], 'score': [12.5, 9, 16.5, np.nan, 9, 20, 14.5, np.nan, 8, 19], 'attempts': [1, 3, 2, 3, 2, 3, 1, 1, 2, 1], 'qualify': ['yes', 'no', 'yes', 'no', 'no', 'yes', 'yes', 'no', 'no', 'yes']}\n",
        "#####labels = ['a', 'b', 'c', 'd', 'e', 'f', 'g', 'h', 'i', 'j']"
      ],
      "metadata": {
        "id": "sPtYqKNG8T9K"
      }
    },
    {
      "cell_type": "code",
      "source": [
        "import pandas as pd\n",
        "import numpy as np\n",
        "\n",
        "exam_data = {\n",
        "    'name': ['Anastasia', 'Dima', 'Katherine', 'James', 'Emily', 'Michael', 'Matthew', 'Laura', 'Kevin', 'Jonas'],\n",
        "    'score': [12.5, 9, 16.5, np.nan, 9, 20, 14.5, np.nan, 8, 19],\n",
        "    'attempts': [1, 3, 2, 3, 2, 3, 1, 1, 2, 1],\n",
        "    'qualify': ['yes', 'no', 'yes', 'no', 'no', 'yes', 'yes', 'no', 'no', 'yes']\n",
        "}\n",
        "\n",
        "labels = ['a', 'b', 'c', 'd', 'e', 'f', 'g', 'h', 'i', 'j']\n",
        "\n",
        "df = pd.DataFrame(exam_data, index=labels)\n",
        "\n",
        "def calculate_grade(score):\n",
        "    if 15 <= score <= 20:\n",
        "        return 'A'\n",
        "    elif 10 <= score < 15:\n",
        "        return 'B'\n",
        "    elif 5 <= score < 10:\n",
        "        return 'C'\n",
        "    elif 1 <= score < 5:\n",
        "        return 'D'\n",
        "    elif score == 0:\n",
        "        return 'F'\n",
        "    else:\n",
        "        return None\n",
        "\n",
        "df['grade'] = df['score'].apply(calculate_grade)\n",
        "\n",
        "df.dropna(subset=['score'], inplace=True)\n",
        "\n",
        "print(df)\n",
        "\n"
      ],
      "metadata": {
        "id": "lrJAt78kUa71",
        "colab": {
          "base_uri": "https://localhost:8080/"
        },
        "outputId": "2c30aacc-da66-454c-9532-db7cd4bc6b15"
      },
      "execution_count": null,
      "outputs": [
        {
          "output_type": "stream",
          "name": "stdout",
          "text": [
            "        name  score  attempts qualify grade\n",
            "a  Anastasia   12.5         1     yes     B\n",
            "b       Dima    9.0         3      no     C\n",
            "c  Katherine   16.5         2     yes     A\n",
            "e      Emily    9.0         2      no     C\n",
            "f    Michael   20.0         3     yes     A\n",
            "g    Matthew   14.5         1     yes     B\n",
            "i      Kevin    8.0         2      no     C\n",
            "j      Jonas   19.0         1     yes     A\n"
          ]
        }
      ]
    },
    {
      "cell_type": "markdown",
      "source": [
        "###Question 2"
      ],
      "metadata": {
        "id": "Pw4n2MEoUd0p"
      }
    },
    {
      "cell_type": "markdown",
      "source": [
        "Write code to calculate the sum of the examination attempts by the students."
      ],
      "metadata": {
        "id": "JRTAJWQwBOcr"
      }
    },
    {
      "cell_type": "code",
      "source": [
        "import pandas as pd\n",
        "import numpy as np\n",
        "\n",
        "exam_data = {\n",
        "    'name': ['Anastasia', 'Dima', 'Katherine', 'James', 'Emily', 'Michael', 'Matthew', 'Laura', 'Kevin', 'Jonas'],\n",
        "    'score': [12.5, 9, 16.5, np.nan, 9, 20, 14.5, np.nan, 8, 19],\n",
        "    'attempts': [1, 3, 2, 3, 2, 3, 1, 1, 2, 1],\n",
        "    'qualify': ['yes', 'no', 'yes', 'no', 'no', 'yes', 'yes', 'no', 'no', 'yes']\n",
        "}\n",
        "\n",
        "labels = ['a', 'b', 'c', 'd', 'e', 'f', 'g', 'h', 'i', 'j']\n",
        "\n",
        "df = pd.DataFrame(exam_data, index=labels)\n",
        "\n",
        "total_attempts = df['attempts'].sum()\n",
        "\n",
        "print(\"Total examination attempts:\", total_attempts)\n",
        "\n"
      ],
      "metadata": {
        "id": "ReYYtOCdUgwM",
        "colab": {
          "base_uri": "https://localhost:8080/"
        },
        "outputId": "2b69a741-576d-4ea5-e13d-6426864fefab"
      },
      "execution_count": null,
      "outputs": [
        {
          "output_type": "stream",
          "name": "stdout",
          "text": [
            "Total examination attempts: 19\n"
          ]
        }
      ]
    },
    {
      "cell_type": "markdown",
      "source": [
        "###Question 3"
      ],
      "metadata": {
        "id": "Tb01BwPJUjcc"
      }
    },
    {
      "cell_type": "markdown",
      "source": [
        "Write a Pandas program to append a new row 'k' to data frame with given values for each column. Now delete the new row and return the original DataFrame."
      ],
      "metadata": {
        "id": "XSFg59kZBYax"
      }
    },
    {
      "cell_type": "code",
      "source": [
        "import pandas as pd\n",
        "import numpy as np\n",
        "\n",
        "exam_data = {\n",
        "    'name': ['Anastasia', 'Dima', 'Katherine', 'James', 'Emily', 'Michael', 'Matthew', 'Laura', 'Kevin', 'Jonas'],\n",
        "    'score': [12.5, 9, 16.5, np.nan, 9, 20, 14.5, np.nan, 8, 19],\n",
        "    'attempts': [1, 3, 2, 3, 2, 3, 1, 1, 2, 1],\n",
        "    'qualify': ['yes', 'no', 'yes', 'no', 'no', 'yes', 'yes', 'no', 'no', 'yes']\n",
        "}\n",
        "\n",
        "labels = ['a', 'b', 'c', 'd', 'e', 'f', 'g', 'h', 'i', 'j']\n",
        "\n",
        "df = pd.DataFrame(exam_data, index=labels)\n",
        "\n",
        "new_row = {'name': 'New Student', 'score': 15.0, 'attempts': 2, 'qualify': 'yes'}\n",
        "df = df.append(pd.Series(new_row, name='k'))\n",
        "\n",
        "df = df.drop('k')\n",
        "\n",
        "print(\"DataFrame after adding and removing the 'k' row:\")\n",
        "print(df)\n"
      ],
      "metadata": {
        "id": "hD5-BVUyUlzk",
        "colab": {
          "base_uri": "https://localhost:8080/"
        },
        "outputId": "27d309d3-3ff1-4f39-e4d2-574bc7fada7f"
      },
      "execution_count": null,
      "outputs": [
        {
          "output_type": "stream",
          "name": "stdout",
          "text": [
            "DataFrame after adding and removing the 'k' row:\n",
            "        name  score  attempts qualify\n",
            "a  Anastasia   12.5         1     yes\n",
            "b       Dima    9.0         3      no\n",
            "c  Katherine   16.5         2     yes\n",
            "d      James    NaN         3      no\n",
            "e      Emily    9.0         2      no\n",
            "f    Michael   20.0         3     yes\n",
            "g    Matthew   14.5         1     yes\n",
            "h      Laura    NaN         1      no\n",
            "i      Kevin    8.0         2      no\n",
            "j      Jonas   19.0         1     yes\n"
          ]
        },
        {
          "output_type": "stream",
          "name": "stderr",
          "text": [
            "<ipython-input-26-2a0ea1b336c4>:16: FutureWarning: The frame.append method is deprecated and will be removed from pandas in a future version. Use pandas.concat instead.\n",
            "  df = df.append(pd.Series(new_row, name='k'))\n"
          ]
        }
      ]
    },
    {
      "cell_type": "markdown",
      "source": [
        "###Question 4"
      ],
      "metadata": {
        "id": "X01gUXgxUsCI"
      }
    },
    {
      "cell_type": "markdown",
      "source": [
        "Write a Pandas program to replace the 'qualify' column contains the values 'yes' and 'no' with True and False."
      ],
      "metadata": {
        "id": "VxM_0PB6BhKx"
      }
    },
    {
      "cell_type": "code",
      "source": [
        "\n",
        "import pandas as pd\n",
        "import numpy as np\n",
        "\n",
        "exam_data = {\n",
        "    'name': ['Anastasia', 'Dima', 'Katherine', 'James', 'Emily', 'Michael', 'Matthew', 'Laura', 'Kevin', 'Jonas'],\n",
        "    'score': [12.5, 9, 16.5, np.nan, 9, 20, 14.5, np.nan, 8, 19],\n",
        "    'attempts': [1, 3, 2, 3, 2, 3, 1, 1, 2, 1],\n",
        "    'qualify': ['yes', 'no', 'yes', 'no', 'no', 'yes', 'yes', 'no', 'no', 'yes']\n",
        "}\n",
        "\n",
        "labels = ['a', 'b', 'c', 'd', 'e', 'f', 'g', 'h', 'i', 'j']\n",
        "\n",
        "df = pd.DataFrame(exam_data, index=labels)\n",
        "\n",
        "df['qualify'] = df['qualify'].replace({'yes': True, 'no': False})\n",
        "\n",
        "print(\"DataFrame after replacing 'qualify' values:\")\n",
        "print(df)\n",
        "\n"
      ],
      "metadata": {
        "id": "OuQCjRIPUprW",
        "colab": {
          "base_uri": "https://localhost:8080/"
        },
        "outputId": "674221a3-cf89-4189-8afc-fb2ce757f3b8"
      },
      "execution_count": null,
      "outputs": [
        {
          "output_type": "stream",
          "name": "stdout",
          "text": [
            "DataFrame after replacing 'qualify' values:\n",
            "        name  score  attempts  qualify\n",
            "a  Anastasia   12.5         1     True\n",
            "b       Dima    9.0         3    False\n",
            "c  Katherine   16.5         2     True\n",
            "d      James    NaN         3    False\n",
            "e      Emily    9.0         2    False\n",
            "f    Michael   20.0         3     True\n",
            "g    Matthew   14.5         1     True\n",
            "h      Laura    NaN         1    False\n",
            "i      Kevin    8.0         2    False\n",
            "j      Jonas   19.0         1     True\n"
          ]
        }
      ]
    },
    {
      "cell_type": "markdown",
      "source": [
        "###Question 5"
      ],
      "metadata": {
        "id": "iKoJhYFVUu3D"
      }
    },
    {
      "cell_type": "markdown",
      "source": [
        "Write a Pandas program to iterate over rows in a DataFrame.\n",
        "\n",
        "Sample Python dictionary data and list labels:\n",
        "#####exam_data = [{'name':'Anastasia', 'score':12.5}, {'name':'Dima','score':9}, {'name':'Katherine','score':16.5}]"
      ],
      "metadata": {
        "id": "m3DZord2CCZo"
      }
    },
    {
      "cell_type": "code",
      "source": [
        "import pandas as pd\n",
        "\n",
        "exam_data = [{'name': 'Anastasia', 'score': 12.5}, {'name': 'Dima', 'score': 9}, {'name': 'Katherine', 'score': 16.5}]\n",
        "\n",
        "df = pd.DataFrame(exam_data)\n",
        "\n",
        "for index, row in df.iterrows():\n",
        "    print(f\"Row index: {index}, Name: {row['name']}, Score: {row['score']}\")"
      ],
      "metadata": {
        "id": "-xkEmiaBj1Ca",
        "colab": {
          "base_uri": "https://localhost:8080/"
        },
        "outputId": "5b7c870b-5bbe-47c9-eedd-cbb4135a3cc1"
      },
      "execution_count": null,
      "outputs": [
        {
          "output_type": "stream",
          "name": "stdout",
          "text": [
            "Row index: 0, Name: Anastasia, Score: 12.5\n",
            "Row index: 1, Name: Dima, Score: 9.0\n",
            "Row index: 2, Name: Katherine, Score: 16.5\n"
          ]
        }
      ]
    },
    {
      "cell_type": "markdown",
      "source": [
        "#Tutorial"
      ],
      "metadata": {
        "id": "8z3bB0gZbOCM"
      }
    },
    {
      "cell_type": "markdown",
      "source": [
        "###Grouped Bar Graph"
      ],
      "metadata": {
        "id": "smRPs3-bbRpz"
      }
    },
    {
      "cell_type": "code",
      "source": [
        "import numpy as np\n",
        "import matplotlib.mlab as mlab\n",
        "import matplotlib.pyplot as plt\n",
        "#First set of data\n",
        "july_sales = (500, 800, 700, 900, 750)\n",
        "ind = np.arange(5)  # the x locations for the groups\n",
        "width = 0.35       # the width of the bars\n",
        "fig, ax = plt.subplots()\n",
        "\n",
        "#Creating the first set of bars for the first set of data\n",
        "rects1 = ax.bar(ind, july_sales, width, color='blue')\n",
        "\n",
        "#Second set of data-- creation of bars\n",
        "august_sales = (800, 900, 600, 800, 1000)\n",
        "rects2 = ax.bar(ind + width, august_sales, width, color='orange')\n",
        "\n",
        "# Add some text for labels, title and axes ticks\n",
        "ax.set_ylabel('Number of Sales',fontsize=13)\n",
        "ax.set_title('Number of Sales in July and August per Week',fontsize=13)\n",
        "ax.set_xticks(ind + width / 2)\n",
        "ax.set_xticklabels(('Week 1', 'Week 2', 'Week 3', 'Week 4', 'Week 5'),fontsize=10)\n",
        "\n",
        "#Create a legend\n",
        "ax.legend((rects1[0], rects2[0]), ('July', 'August'))\n",
        "\n",
        "plt.show()"
      ],
      "metadata": {
        "colab": {
          "base_uri": "https://localhost:8080/",
          "height": 452
        },
        "id": "CmqPUPDTab9N",
        "outputId": "bf9c9550-8452-4765-e22a-0b4bd9142278"
      },
      "execution_count": null,
      "outputs": [
        {
          "output_type": "display_data",
          "data": {
            "text/plain": [
              "<Figure size 640x480 with 1 Axes>"
            ],
            "image/png": "[encoded data removed]"
          },
          "metadata": {}
        }
      ]
    },
    {
      "cell_type": "code",
      "source": [
        "#First set of data\n",
        "july_sales = (500, 800, 700, 900, 750)\n",
        "ind = np.arange(5)  # the x locations for the groups\n",
        "width = 0.35       # the width of the bars\n",
        "fig, ax = plt.subplots()\n",
        "\n",
        "#Creating the first set of bars for the first set of data\n",
        "rects1 = ax.bar(ind, july_sales, width, color='blue')\n",
        "\n",
        "#Second set of data-- creation of bars\n",
        "august_sales = (800, 900, 600, 800, 1000)\n",
        "rects2 = ax.bar(ind + width, august_sales, width, color='orange')\n",
        "\n",
        "# Add some text for labels, title and axes ticks\n",
        "ax.set_ylabel('Number of Sales',fontsize=13)\n",
        "ax.set_title('Number of Sales in July and August per Week',fontsize=13)\n",
        "ax.set_xticks(ind + width / 2)\n",
        "ax.set_xticklabels(('Week 1', 'Week 2', 'Week 3', 'Week 4', 'Week 5'),fontsize=10)\n",
        "\n",
        "#Create a legend\n",
        "ax.legend((rects1[0], rects2[0]), ('July', 'August'))\n",
        "\n",
        "#Attach a text label above each bar displaying its height\n",
        "def autolabel(rects):\n",
        "    for rect in rects:\n",
        "        height = rect.get_height()\n",
        "        ax.text(rect.get_x() + rect.get_width()/2., height,\n",
        "                '%d' % int(height),\n",
        "                ha='center', va='bottom')\n",
        "autolabel(rects1)\n",
        "autolabel(rects2)\n",
        "plt.show()"
      ],
      "metadata": {
        "colab": {
          "base_uri": "https://localhost:8080/",
          "height": 452
        },
        "id": "gZB0bKMUbLGd",
        "outputId": "16ac1273-cc4c-4a55-aa79-aff48ee94e65"
      },
      "execution_count": null,
      "outputs": [
        {
          "output_type": "display_data",
          "data": {
            "text/plain": [
              "<Figure size 640x480 with 1 Axes>"
            ],
            "image/png": "[encoded data removed]"
          },
          "metadata": {}
        }
      ]
    },
    {
      "cell_type": "markdown",
      "source": [
        "###Stacked Bar Plot"
      ],
      "metadata": {
        "id": "abnJM8MCbZ8x"
      }
    },
    {
      "cell_type": "code",
      "source": [
        "#Data for the first and second bar plots\n",
        "july_sales = (500, 800, 700, 900, 750)\n",
        "august_sales = (800, 900, 600, 800, 1000)\n",
        "\n",
        "#Setting the width of the bars and tick positions\n",
        "width = 0.5      # the width of the bars\n",
        "ind = np.arange(1,6)  # the x locations for the groups\n",
        "tick_pos = [i + (width/50) for i in ind]\n",
        "\n",
        "#Creating the bars\n",
        "p1 = plt.bar(ind, july_sales, width, color='blue',align='center')\n",
        "p2 = plt.bar(ind,august_sales,width,bottom=july_sales,color='green',align='center')\n",
        "\n",
        "#Add some text for labels, title, axes ticks, and legend\n",
        "plt.ylabel('Number of Sales',fontsize=12)\n",
        "plt.xlabel('Weeks',fontsize=12,labelpad=15)\n",
        "plt.title('Number of Sales in July and August per Week',fontsize=13)\n",
        "plt.xticks(tick_pos,('Week 1','Week 2','Week 3','Week 4','Week 5'), fontsize=10)\n",
        "plt.legend((p1[0], p2[0]), ('July', 'August'),loc=\"best\")\n",
        "\n",
        "#Display the bar plot\n",
        "plt.show()"
      ],
      "metadata": {
        "colab": {
          "base_uri": "https://localhost:8080/",
          "height": 491
        },
        "id": "6_ZcTpZqbWQT",
        "outputId": "5252421e-5b55-4799-c9aa-3407331e7181"
      },
      "execution_count": null,
      "outputs": [
        {
          "output_type": "display_data",
          "data": {
            "text/plain": [
              "<Figure size 640x480 with 1 Axes>"
            ],
            "image/png": "[encoded data removed]"
          },
          "metadata": {}
        }
      ]
    },
    {
      "cell_type": "code",
      "source": [
        "#Data for the first and second bar plots\n",
        "july_sales = (500, 800, 700, 900, 750)\n",
        "august_sales = (800, 900, 600, 800, 1000)\n",
        "\n",
        "#Setting the width of the bars and tick positions\n",
        "width = 0.5      # the width of the bars\n",
        "ind = np.arange(1,6)  # the x locations for the groups\n",
        "tick_pos = [i + (width/50) for i in ind]\n",
        "\n",
        "#Creating the bars\n",
        "p1 = plt.bar(ind, july_sales, width, color='blue',align='center')\n",
        "p2 = plt.bar(ind,august_sales,width,bottom=july_sales,color='green',align='center')\n",
        "\n",
        "#Add some text for labels, title, axes ticks, and legend\n",
        "plt.ylabel('Number of Sales',fontsize=12)\n",
        "plt.xlabel('Weeks',fontsize=12,labelpad=15)\n",
        "plt.title('Number of Sales in July and August per Week',fontsize=13)\n",
        "plt.xticks(tick_pos,('Week 1','Week 2','Week 3','Week 4','Week 5'), fontsize=10)\n",
        "plt.legend((p1[0], p2[0]), ('July', 'August'),loc=\"best\")\n",
        "\n",
        "#Labels for each bar\n",
        "for r1, r2 in zip(p1, p2):\n",
        "    h1 = r1.get_height()\n",
        "    h2 = r2.get_height()\n",
        "    plt.text(r1.get_x() + r1.get_width() / 2., h1 / 2., \"%d\" % h1, ha=\"center\", va=\"bottom\", color=\"white\", fontsize=10, fontweight=\"bold\")\n",
        "    plt.text(r2.get_x() + r2.get_width() / 2., h1 + h2 / 2., \"%d\" % h2, ha=\"center\", va=\"bottom\", color=\"white\", fontsize=10, fontweight=\"bold\")\n",
        "\n",
        "#Display the bar plot\n",
        "plt.show()"
      ],
      "metadata": {
        "colab": {
          "base_uri": "https://localhost:8080/",
          "height": 491
        },
        "id": "w5f5KQPXbg15",
        "outputId": "02a95fd8-0376-4ab2-b464-1217623629a6"
      },
      "execution_count": null,
      "outputs": [
        {
          "output_type": "display_data",
          "data": {
            "text/plain": [
              "<Figure size 640x480 with 1 Axes>"
            ],
            "image/png": "[encoded data removed]"
          },
          "metadata": {}
        }
      ]
    },
    {
      "cell_type": "markdown",
      "source": [
        "###Contour Plot"
      ],
      "metadata": {
        "id": "Hj_EdHNwcMh2"
      }
    },
    {
      "cell_type": "code",
      "source": [
        "#Creates an unfilled contour with a cool & warm color mapping\n",
        "import numpy as np\n",
        "import matplotlib.pyplot as plt\n",
        "#import matplotlib.mlab as mlab\n",
        "#Following line is for color mapping\n",
        "from matplotlib import cm\n",
        "#Creating the data for the contour plot(s)\n",
        "delta = 0.025\n",
        "x = np.arange(-2.0,3.0,delta)\n",
        "y = np.arange(-2.0,3.0,delta)\n",
        "#meshgrid makes rectangular arrays that\n",
        "#cover every combination of x and y values\n",
        "X, Y = np.meshgrid(x,y)\n",
        "\n",
        "#make an interesting bump and valley for plotting\n",
        "#Creates a Gaussian distribution for equal shape X, Y\n",
        "Z1 = np.exp(-X**2 - Y**2)\n",
        "Z2 = np.exp(-(X - 1)**2 - (Y - 1)**2)\n",
        "Z = (Z1 - Z2) * 2\n",
        "\n",
        "#Creating an unfilled contour plot\n",
        "plt.figure()\n",
        "#Can change the color mappings and line style\n",
        "cp = plt.contour(X, Y, Z,cmap=cm.coolwarm)\n",
        "\n",
        "#Labels and titles for the plot\n",
        "plt.clabel(cp, inline=True, fontsize=10)\n",
        "plt.title('Contour Plot')\n",
        "plt.xlabel('X (cm)')\n",
        "plt.ylabel('Y (cm)')\n",
        "plt.show()"
      ],
      "metadata": {
        "colab": {
          "base_uri": "https://localhost:8080/",
          "height": 472
        },
        "id": "An3VivfDb6WF",
        "outputId": "4a46e121-6246-401f-ec4d-3ced25c2e7ac"
      },
      "execution_count": null,
      "outputs": [
        {
          "output_type": "display_data",
          "data": {
            "text/plain": [
              "<Figure size 640x480 with 1 Axes>"
            ],
            "image/png": "[encoded data removed]"
          },
          "metadata": {}
        }
      ]
    },
    {
      "cell_type": "markdown",
      "source": [
        "####Write the observations of the above tutorial here**(5%)**"
      ],
      "metadata": {
        "id": "EHQxbEmnkXsa"
      }
    },
    {
      "cell_type": "markdown",
      "source": [
        "Here, we are using some different kind of the graphs for representing the data. we are using matplotlib library for visualization and comparing the number of sales of the july and august for the five weeks of the data.\n",
        "\n",
        "**Grouped Bar Graph:**first, we are creating the grouped graph data for using july and august sales data. focusing, on the bar the highest sales is on week 5 for which set as almost touch at 1000 sale on the month of August. while in the month of july its always low compare to august and in the week 1 is low in the august is sale is reached at 800.\n",
        "we are creating the bars for each week. here rects1 is variable represent the bar for july, and rects2 is used for the august bar. we are using labels, titles and axes ticks  we add to the chart, for providing the context for the data. legend is use for different between the two set of the data for july and august. plt.show() is called for displaying the chart.  \n",
        "this chart is comparing the sales between the july and august for the each week, this is used for finding the trend and different in  the sales for two months.\n",
        "\n",
        "\n",
        "**Stacked Bar Plot:**focusing, on the second graphs we are giving the labels of the each bar graph with the sales values for august and july.  this shows, how effective and easy to understand and read the data if the bar graph is give the labels of the sales of july and august.\n",
        "\n",
        "after that we are creating the stacked bar graph for five weeks with sales of july and august.\n",
        "\n",
        "here, we are using the stacked graph for representing the data for july and sugust sales. here, we are setting the set as 0.5, and location for the group as 'ind'.\n",
        "for creating the graph we are using plt.bar(). here we are using bottom for stacked up the bar. we are creating bar of august and stacked up of july over the bar using bottom parameter which is making easy to compare the data.\n",
        "\n",
        "after , in the second bar chart we are providing the labels to the sales data of the bar so, its easy to understand and compare.\n",
        "\n",
        "**Contour Plot:** this is generated graph as counter plot with the cool to worm color for displaying the sales of the data.\n",
        "\n",
        "here, we are creating the grid data using np.meshgrid() for the x-axis and y-axis with the predefined range.\n",
        "here, we are usign two different Gaussian distribution function named as z1 and z2, this is used for create the pattern for the counter plot.\n",
        "\n",
        "plt.conter() is used for creating unfilled counter plot, which use x, y and z data. color is used with cm.coolwarm ,where cool is blue and warm is red colors used for representing the sales. color labels are given using plt.clabel().\n",
        "\n",
        "here, this counter plot present the data of the distributioon z data in to the two deminsional space with the different color to shows the different levels.\n",
        "\n",
        "All in all, focusing on the all the graphs its clearly visible that for visualizing the sales data in better way and easy to understand the grouped bar graph and stacked bar graph is good options.\n",
        "\n",
        "\n"
      ],
      "metadata": {
        "id": "mgTzIeXPC8gr"
      }
    },
    {
      "cell_type": "markdown",
      "source": [
        "#Task 2:**(60%)**"
      ],
      "metadata": {
        "id": "UUskvN4uTPlQ"
      }
    },
    {
      "cell_type": "markdown",
      "source": [
        "###Question 1**(40%)**"
      ],
      "metadata": {
        "id": "gw4HA6IeioRw"
      }
    },
    {
      "cell_type": "markdown",
      "source": [
        "Choose a dataset on your own, perform all the types of visualization techniques. (You must include Scatterplot, Grouped BarPlot, Stacked BarPlot, Histogram, Piechart, Contourplot, Boxplot, HeatMap and Distplot)."
      ],
      "metadata": {
        "id": "7dEehDSlDVlG"
      }
    },
    {
      "cell_type": "code",
      "source": [
        "import pandas as pd\n",
        "import numpy as np\n",
        "\n",
        "np.random.seed(0)\n",
        "n = 100\n",
        "\n",
        "data = {\n",
        "    'Date': pd.date_range(start='2022-01-01', periods=n, freq='D'),\n",
        "    'Store': np.random.choice(['Store A', 'Store B', 'Store C'], n),\n",
        "    'Product': np.random.choice(['Product X', 'Product Y', 'Product Z'], n),\n",
        "    'Sales': np.random.randint(100, 1000, size=n)\n",
        "}\n",
        "\n",
        "sales_df = pd.DataFrame(data)\n",
        "\n",
        "\n"
      ],
      "metadata": {
        "id": "aThxshj1PwBh"
      },
      "execution_count": null,
      "outputs": []
    },
    {
      "cell_type": "markdown",
      "source": [
        "**Scatter Plot**"
      ],
      "metadata": {
        "id": "xerD1PLwQZm0"
      }
    },
    {
      "cell_type": "code",
      "source": [
        "import matplotlib.pyplot as plt\n",
        "\n",
        "plt.scatter(sales_df['Date'], sales_df['Sales'])\n",
        "plt.xlabel('Date')\n",
        "plt.ylabel('Sales')\n",
        "plt.title('Scatterplot of Sales Over Time')\n",
        "plt.show()\n"
      ],
      "metadata": {
        "colab": {
          "base_uri": "https://localhost:8080/",
          "height": 472
        },
        "id": "h4aL6_rnQZ9L",
        "outputId": "91d151af-a985-43af-8a84-d480bc15efd8"
      },
      "execution_count": null,
      "outputs": [
        {
          "output_type": "display_data",
          "data": {
            "text/plain": [
              "<Figure size 640x480 with 1 Axes>"
            ],
            "image/png": "[encoded data removed]"
          },
          "metadata": {}
        }
      ]
    },
    {
      "cell_type": "markdown",
      "source": [
        "**Grouped BarPlot:**"
      ],
      "metadata": {
        "id": "6LStwe8qQtlk"
      }
    },
    {
      "cell_type": "code",
      "source": [
        "import seaborn as sns\n",
        "\n",
        "sns.barplot(data=sales_df, x='Store', y='Sales', hue='Product')\n",
        "plt.xlabel('Store')\n",
        "plt.ylabel('Sales')\n",
        "plt.title('Grouped BarPlot of Sales by Store and Product')\n",
        "plt.show()\n",
        "\n"
      ],
      "metadata": {
        "colab": {
          "base_uri": "https://localhost:8080/",
          "height": 472
        },
        "id": "Zp8TCMYhQyiG",
        "outputId": "12f8e1fa-df33-4f8a-ec85-b3256c543c61"
      },
      "execution_count": null,
      "outputs": [
        {
          "output_type": "display_data",
          "data": {
            "text/plain": [
              "<Figure size 640x480 with 1 Axes>"
            ],
            "image/png": "[encoded data removed]"
          },
          "metadata": {}
        }
      ]
    },
    {
      "cell_type": "markdown",
      "source": [
        "**Histogram:**"
      ],
      "metadata": {
        "id": "ny_aK6_wQ0wE"
      }
    },
    {
      "cell_type": "code",
      "source": [
        "plt.hist(sales_df['Sales'], bins=10, rwidth=0.8)\n",
        "plt.xlabel('Sales')\n",
        "plt.ylabel('Frequency')\n",
        "plt.title('Histogram of Sales')\n",
        "plt.show()\n"
      ],
      "metadata": {
        "colab": {
          "base_uri": "https://localhost:8080/",
          "height": 472
        },
        "id": "ENLqs8WpQ5MP",
        "outputId": "e4277092-ac76-4ea3-d0da-4bc351902b87"
      },
      "execution_count": null,
      "outputs": [
        {
          "output_type": "display_data",
          "data": {
            "text/plain": [
              "<Figure size 640x480 with 1 Axes>"
            ],
            "image/png": "[encoded data removed]"
          },
          "metadata": {}
        }
      ]
    },
    {
      "cell_type": "markdown",
      "source": [
        "**Pie Chart:**"
      ],
      "metadata": {
        "id": "q3BppFKWRE3e"
      }
    },
    {
      "cell_type": "code",
      "source": [
        "sales_by_product = sales_df.groupby('Product')['Sales'].sum()\n",
        "plt.pie(sales_by_product, labels=sales_by_product.index, autopct='%1.1f%%')\n",
        "plt.title('Pie Chart of Total Sales by Product')\n",
        "plt.show()\n",
        "\n"
      ],
      "metadata": {
        "colab": {
          "base_uri": "https://localhost:8080/",
          "height": 428
        },
        "id": "-85JYKeYRHZE",
        "outputId": "ec62fd77-55d3-43f0-edae-20769d688527"
      },
      "execution_count": null,
      "outputs": [
        {
          "output_type": "display_data",
          "data": {
            "text/plain": [
              "<Figure size 640x480 with 1 Axes>"
            ],
            "image/png": "[encoded data removed]"
          },
          "metadata": {}
        }
      ]
    },
    {
      "cell_type": "markdown",
      "source": [
        "**Contour Plot:**"
      ],
      "metadata": {
        "id": "2PzuCvOdRI0F"
      }
    },
    {
      "cell_type": "code",
      "source": [
        "contour_data = sales_df.pivot_table(index='Store', columns='Product', values='Sales', aggfunc='sum')\n",
        "plt.contourf(contour_data.values, levels=20, cmap='viridis')\n",
        "plt.colorbar(label='Sales')\n",
        "plt.xlabel('Product')\n",
        "plt.ylabel('Store')\n",
        "plt.title('Contour Plot of Sales by Store and Product')\n",
        "plt.show()\n",
        "\n"
      ],
      "metadata": {
        "colab": {
          "base_uri": "https://localhost:8080/",
          "height": 472
        },
        "id": "UrScszTeRK58",
        "outputId": "66385cb7-240e-401d-dc37-9f1b36f63110"
      },
      "execution_count": null,
      "outputs": [
        {
          "output_type": "display_data",
          "data": {
            "text/plain": [
              "<Figure size 640x480 with 2 Axes>"
            ],
            "image/png": "[encoded data removed]"
          },
          "metadata": {}
        }
      ]
    },
    {
      "cell_type": "markdown",
      "source": [
        "**Boxplot:**"
      ],
      "metadata": {
        "id": "uR4xZybBRNBx"
      }
    },
    {
      "cell_type": "code",
      "source": [
        "sns.boxplot(data=sales_df, x='Product', y='Sales')\n",
        "plt.xlabel('Product')\n",
        "plt.ylabel('Sales')\n",
        "plt.title('Box Plot of Sales by Product')\n",
        "plt.show()\n",
        "\n"
      ],
      "metadata": {
        "colab": {
          "base_uri": "https://localhost:8080/",
          "height": 472
        },
        "id": "ytkHmgjZRPSF",
        "outputId": "34374269-27d4-4a8a-f385-1b1f41a93303"
      },
      "execution_count": null,
      "outputs": [
        {
          "output_type": "display_data",
          "data": {
            "text/plain": [
              "<Figure size 640x480 with 1 Axes>"
            ],
            "image/png": "[encoded data removed]"
          },
          "metadata": {}
        }
      ]
    },
    {
      "cell_type": "markdown",
      "source": [
        "**Heatmap:**"
      ],
      "metadata": {
        "id": "Ua8aPHuhRS2f"
      }
    },
    {
      "cell_type": "code",
      "source": [
        "heatmap_data = sales_df.pivot_table(index='Store', columns='Product', values='Sales', aggfunc='sum')\n",
        "sns.heatmap(heatmap_data, cmap='YlGnBu', annot=True, fmt='g')\n",
        "plt.xlabel('Product')\n",
        "plt.ylabel('Store')\n",
        "plt.title('Heatmap of Sales by Store and Product')\n",
        "plt.show()\n",
        "\n"
      ],
      "metadata": {
        "colab": {
          "base_uri": "https://localhost:8080/",
          "height": 472
        },
        "id": "liu6ZOypRVyi",
        "outputId": "95f4f290-7833-4b16-fe7c-006b35bcd91d"
      },
      "execution_count": null,
      "outputs": [
        {
          "output_type": "display_data",
          "data": {
            "text/plain": [
              "<Figure size 640x480 with 2 Axes>"
            ],
            "image/png": "[encoded data removed]"
          },
          "metadata": {}
        }
      ]
    },
    {
      "cell_type": "markdown",
      "source": [
        "**Distplot:**"
      ],
      "metadata": {
        "id": "hc39LnByRZnR"
      }
    },
    {
      "cell_type": "code",
      "source": [
        "sns.displot(sales_df['Sales'], kde=True, bins=10)\n",
        "plt.xlabel('Sales')\n",
        "plt.title('Distribution Plot of Sales')\n",
        "plt.show()\n",
        "\n"
      ],
      "metadata": {
        "colab": {
          "base_uri": "https://localhost:8080/",
          "height": 529
        },
        "id": "nm3C0G3ERdVy",
        "outputId": "e727101c-ed77-46d8-e48f-ee56d47cf71a"
      },
      "execution_count": null,
      "outputs": [
        {
          "output_type": "display_data",
          "data": {
            "text/plain": [
              "<Figure size 500x500 with 1 Axes>"
            ],
            "image/png": "[encoded data removed]"
          },
          "metadata": {}
        }
      ]
    },
    {
      "cell_type": "markdown",
      "source": [
        "**Stacked BarPlot:**"
      ],
      "metadata": {
        "id": "sz2YUF-LR-2Q"
      }
    },
    {
      "cell_type": "code",
      "source": [
        "pivot_sales = sales_df.pivot_table(index='Store', columns='Product', values='Sales', aggfunc='sum')\n",
        "\n",
        "pivot_sales.plot(kind='bar', stacked=True)\n",
        "plt.xlabel('Store')\n",
        "plt.ylabel('Sales')\n",
        "plt.title('Stacked BarPlot of Sales by Store and Product')\n",
        "plt.show()"
      ],
      "metadata": {
        "colab": {
          "base_uri": "https://localhost:8080/",
          "height": 509
        },
        "id": "V8YGAN3_R_LO",
        "outputId": "7370c8e2-667e-409c-b53f-890a8353241b"
      },
      "execution_count": null,
      "outputs": [
        {
          "output_type": "display_data",
          "data": {
            "text/plain": [
              "<Figure size 640x480 with 1 Axes>"
            ],
            "image/png": "[encoded data removed]"
          },
          "metadata": {}
        }
      ]
    },
    {
      "cell_type": "markdown",
      "source": [
        "###Question 2a**(10%)**"
      ],
      "metadata": {
        "id": "sa4jGFgbire3"
      }
    },
    {
      "cell_type": "markdown",
      "source": [
        "Write a Python programming to display a horizontal bar chart of the popularity of programming Languages.\n",
        "\n",
        "Sample data:\n",
        "Programming languages: Java, Python, PHP, JavaScript, C#, C++\n",
        "Popularity: 22.2, 17.6, 8.8, 8, 7.7, 6.7"
      ],
      "metadata": {
        "id": "940vXCFDEUov"
      }
    },
    {
      "cell_type": "code",
      "source": [
        "import matplotlib.pyplot as plt\n",
        "\n",
        "languages = [\"Java\", \"Python\", \"PHP\", \"JavaScript\", \"C#\", \"C++\"]\n",
        "popularity = [22.2, 17.6, 8.8, 8, 7.7, 6.7]\n",
        "\n",
        "plt.figure(figsize=(10, 6))\n",
        "plt.barh(languages, popularity, color='skyblue')\n",
        "plt.xlabel('Popularity (%)')\n",
        "plt.title('Popularity of Programming Languages')\n",
        "plt.gca().invert_yaxis()\n",
        "\n",
        "plt.show()\n",
        "\n"
      ],
      "metadata": {
        "colab": {
          "base_uri": "https://localhost:8080/",
          "height": 564
        },
        "id": "lra7w2Uh4Qeu",
        "outputId": "c44c6927-ae83-4f5f-be84-ee83c1de83f6"
      },
      "execution_count": null,
      "outputs": [
        {
          "output_type": "display_data",
          "data": {
            "text/plain": [
              "<Figure size 1000x600 with 1 Axes>"
            ],
            "image/png": "[encoded data removed]"
          },
          "metadata": {}
        }
      ]
    },
    {
      "cell_type": "markdown",
      "source": [
        "###Question 2b**(10%)**"
      ],
      "metadata": {
        "id": "Qg3Al1Juit2V"
      }
    },
    {
      "cell_type": "markdown",
      "source": [
        "Write a Python program to create a stacked bar plot with error bars.\n",
        "\n",
        "Note: Use bottom to stack the women’s bars on top of the men’s bars.\n",
        "Sample Data:\n",
        "Means (men) = (22, 30, 35, 35, 26)\n",
        "Means (women) = (25, 32, 30, 35, 29)\n",
        "Men Standard deviation = (4, 3, 4, 1, 5)\n",
        "Women Standard deviation = (3, 5, 2, 3, 3)"
      ],
      "metadata": {
        "id": "GjH4ZWb-aHUQ"
      }
    },
    {
      "cell_type": "code",
      "source": [
        "import numpy as np\n",
        "import matplotlib.pyplot as plt\n",
        "\n",
        "# Sample data\n",
        "categories = ['Category 1', 'Category 2', 'Category 3', 'Category 4', 'Category 5']\n",
        "men_means = [22, 30, 35, 35, 26]\n",
        "women_means = [25, 32, 30, 35, 29]\n",
        "men_std = [4, 3, 4, 1, 5]\n",
        "women_std = [3, 5, 2, 3, 3]\n",
        "\n",
        "x = np.arange(len(categories))\n",
        "\n",
        "plt.figure(figsize=(10, 6))\n",
        "men_bars = plt.bar(x, men_means, yerr=men_std, label='Men', color='b', alpha=0.7, capsize=5)\n",
        "women_bars = plt.bar(x, women_means, yerr=women_std, bottom=men_means, label='Women', color='r', alpha=0.7, capsize=5)\n",
        "\n",
        "for bar, men_mean, women_mean in zip(men_bars, men_means, women_means):\n",
        "    plt.text(bar.get_x() + bar.get_width() / 2 - 0.15, men_mean + women_mean + 1, str(men_mean), ha='center')\n",
        "    plt.text(bar.get_x() + bar.get_width() / 2 - 0.15, men_mean - 5, str(women_mean), ha='center')\n",
        "\n",
        "plt.xlabel('Categories')\n",
        "plt.ylabel('Means')\n",
        "plt.title('Stacked Bar Plot with Error Bars')\n",
        "plt.xticks(x, categories)\n",
        "plt.legend()\n",
        "\n",
        "plt.show()\n",
        "\n"
      ],
      "metadata": {
        "colab": {
          "base_uri": "https://localhost:8080/",
          "height": 564
        },
        "id": "OEtboNgK4BKd",
        "outputId": "3fce9012-da7e-4bbe-c034-effc628be160"
      },
      "execution_count": null,
      "outputs": [
        {
          "output_type": "display_data",
          "data": {
            "text/plain": [
              "<Figure size 1000x600 with 1 Axes>"
            ],
            "image/png": "[encoded data removed]"
          },
          "metadata": {}
        }
      ]
    }
  ]
}